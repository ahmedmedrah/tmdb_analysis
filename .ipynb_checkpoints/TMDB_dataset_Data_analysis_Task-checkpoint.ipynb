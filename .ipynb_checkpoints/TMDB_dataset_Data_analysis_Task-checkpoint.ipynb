{
 "cells": [
  {
   "cell_type": "code",
   "execution_count": 1,
   "id": "0dd141b3",
   "metadata": {},
   "outputs": [],
   "source": [
    "import numpy as np \n",
    "import pandas as pd \n",
    "import matplotlib.pyplot as plt\n",
    "import seaborn as sns\n",
    "%matplotlib inline\n",
    "import warnings\n",
    "warnings.filterwarnings('ignore')"
   ]
  },
  {
   "cell_type": "markdown",
   "id": "fcc041a8",
   "metadata": {},
   "source": [
    "# Research Questions\n",
    "\n",
    "\n",
    "- **Top 10 earning Genres**\n",
    "- **Highest earning production company**\n",
    "- **most successful director**\n"
   ]
  },
  {
   "cell_type": "code",
   "execution_count": 2,
   "id": "535d073c",
   "metadata": {},
   "outputs": [
    {
     "data": {
      "text/html": [
       "<div>\n",
       "<style scoped>\n",
       "    .dataframe tbody tr th:only-of-type {\n",
       "        vertical-align: middle;\n",
       "    }\n",
       "\n",
       "    .dataframe tbody tr th {\n",
       "        vertical-align: top;\n",
       "    }\n",
       "\n",
       "    .dataframe thead th {\n",
       "        text-align: right;\n",
       "    }\n",
       "</style>\n",
       "<table border=\"1\" class=\"dataframe\">\n",
       "  <thead>\n",
       "    <tr style=\"text-align: right;\">\n",
       "      <th></th>\n",
       "      <th>id</th>\n",
       "      <th>imdb_id</th>\n",
       "      <th>popularity</th>\n",
       "      <th>budget</th>\n",
       "      <th>revenue</th>\n",
       "      <th>original_title</th>\n",
       "      <th>cast</th>\n",
       "      <th>homepage</th>\n",
       "      <th>director</th>\n",
       "      <th>tagline</th>\n",
       "      <th>...</th>\n",
       "      <th>overview</th>\n",
       "      <th>runtime</th>\n",
       "      <th>genres</th>\n",
       "      <th>production_companies</th>\n",
       "      <th>release_date</th>\n",
       "      <th>vote_count</th>\n",
       "      <th>vote_average</th>\n",
       "      <th>release_year</th>\n",
       "      <th>budget_adj</th>\n",
       "      <th>revenue_adj</th>\n",
       "    </tr>\n",
       "  </thead>\n",
       "  <tbody>\n",
       "    <tr>\n",
       "      <th>0</th>\n",
       "      <td>135397</td>\n",
       "      <td>tt0369610</td>\n",
       "      <td>32.985763</td>\n",
       "      <td>150000000</td>\n",
       "      <td>1513528810</td>\n",
       "      <td>Jurassic World</td>\n",
       "      <td>Chris Pratt|Bryce Dallas Howard|Irrfan Khan|Vi...</td>\n",
       "      <td>http://www.jurassicworld.com/</td>\n",
       "      <td>Colin Trevorrow</td>\n",
       "      <td>The park is open.</td>\n",
       "      <td>...</td>\n",
       "      <td>Twenty-two years after the events of Jurassic ...</td>\n",
       "      <td>124</td>\n",
       "      <td>Action|Adventure|Science Fiction|Thriller</td>\n",
       "      <td>Universal Studios|Amblin Entertainment|Legenda...</td>\n",
       "      <td>6/9/15</td>\n",
       "      <td>5562</td>\n",
       "      <td>6.5</td>\n",
       "      <td>2015</td>\n",
       "      <td>1.379999e+08</td>\n",
       "      <td>1.392446e+09</td>\n",
       "    </tr>\n",
       "    <tr>\n",
       "      <th>1</th>\n",
       "      <td>76341</td>\n",
       "      <td>tt1392190</td>\n",
       "      <td>28.419936</td>\n",
       "      <td>150000000</td>\n",
       "      <td>378436354</td>\n",
       "      <td>Mad Max: Fury Road</td>\n",
       "      <td>Tom Hardy|Charlize Theron|Hugh Keays-Byrne|Nic...</td>\n",
       "      <td>http://www.madmaxmovie.com/</td>\n",
       "      <td>George Miller</td>\n",
       "      <td>What a Lovely Day.</td>\n",
       "      <td>...</td>\n",
       "      <td>An apocalyptic story set in the furthest reach...</td>\n",
       "      <td>120</td>\n",
       "      <td>Action|Adventure|Science Fiction|Thriller</td>\n",
       "      <td>Village Roadshow Pictures|Kennedy Miller Produ...</td>\n",
       "      <td>5/13/15</td>\n",
       "      <td>6185</td>\n",
       "      <td>7.1</td>\n",
       "      <td>2015</td>\n",
       "      <td>1.379999e+08</td>\n",
       "      <td>3.481613e+08</td>\n",
       "    </tr>\n",
       "    <tr>\n",
       "      <th>2</th>\n",
       "      <td>262500</td>\n",
       "      <td>tt2908446</td>\n",
       "      <td>13.112507</td>\n",
       "      <td>110000000</td>\n",
       "      <td>295238201</td>\n",
       "      <td>Insurgent</td>\n",
       "      <td>Shailene Woodley|Theo James|Kate Winslet|Ansel...</td>\n",
       "      <td>http://www.thedivergentseries.movie/#insurgent</td>\n",
       "      <td>Robert Schwentke</td>\n",
       "      <td>One Choice Can Destroy You</td>\n",
       "      <td>...</td>\n",
       "      <td>Beatrice Prior must confront her inner demons ...</td>\n",
       "      <td>119</td>\n",
       "      <td>Adventure|Science Fiction|Thriller</td>\n",
       "      <td>Summit Entertainment|Mandeville Films|Red Wago...</td>\n",
       "      <td>3/18/15</td>\n",
       "      <td>2480</td>\n",
       "      <td>6.3</td>\n",
       "      <td>2015</td>\n",
       "      <td>1.012000e+08</td>\n",
       "      <td>2.716190e+08</td>\n",
       "    </tr>\n",
       "    <tr>\n",
       "      <th>3</th>\n",
       "      <td>140607</td>\n",
       "      <td>tt2488496</td>\n",
       "      <td>11.173104</td>\n",
       "      <td>200000000</td>\n",
       "      <td>2068178225</td>\n",
       "      <td>Star Wars: The Force Awakens</td>\n",
       "      <td>Harrison Ford|Mark Hamill|Carrie Fisher|Adam D...</td>\n",
       "      <td>http://www.starwars.com/films/star-wars-episod...</td>\n",
       "      <td>J.J. Abrams</td>\n",
       "      <td>Every generation has a story.</td>\n",
       "      <td>...</td>\n",
       "      <td>Thirty years after defeating the Galactic Empi...</td>\n",
       "      <td>136</td>\n",
       "      <td>Action|Adventure|Science Fiction|Fantasy</td>\n",
       "      <td>Lucasfilm|Truenorth Productions|Bad Robot</td>\n",
       "      <td>12/15/15</td>\n",
       "      <td>5292</td>\n",
       "      <td>7.5</td>\n",
       "      <td>2015</td>\n",
       "      <td>1.839999e+08</td>\n",
       "      <td>1.902723e+09</td>\n",
       "    </tr>\n",
       "    <tr>\n",
       "      <th>4</th>\n",
       "      <td>168259</td>\n",
       "      <td>tt2820852</td>\n",
       "      <td>9.335014</td>\n",
       "      <td>190000000</td>\n",
       "      <td>1506249360</td>\n",
       "      <td>Furious 7</td>\n",
       "      <td>Vin Diesel|Paul Walker|Jason Statham|Michelle ...</td>\n",
       "      <td>http://www.furious7.com/</td>\n",
       "      <td>James Wan</td>\n",
       "      <td>Vengeance Hits Home</td>\n",
       "      <td>...</td>\n",
       "      <td>Deckard Shaw seeks revenge against Dominic Tor...</td>\n",
       "      <td>137</td>\n",
       "      <td>Action|Crime|Thriller</td>\n",
       "      <td>Universal Pictures|Original Film|Media Rights ...</td>\n",
       "      <td>4/1/15</td>\n",
       "      <td>2947</td>\n",
       "      <td>7.3</td>\n",
       "      <td>2015</td>\n",
       "      <td>1.747999e+08</td>\n",
       "      <td>1.385749e+09</td>\n",
       "    </tr>\n",
       "  </tbody>\n",
       "</table>\n",
       "<p>5 rows × 21 columns</p>\n",
       "</div>"
      ],
      "text/plain": [
       "       id    imdb_id  popularity     budget     revenue  \\\n",
       "0  135397  tt0369610   32.985763  150000000  1513528810   \n",
       "1   76341  tt1392190   28.419936  150000000   378436354   \n",
       "2  262500  tt2908446   13.112507  110000000   295238201   \n",
       "3  140607  tt2488496   11.173104  200000000  2068178225   \n",
       "4  168259  tt2820852    9.335014  190000000  1506249360   \n",
       "\n",
       "                 original_title  \\\n",
       "0                Jurassic World   \n",
       "1            Mad Max: Fury Road   \n",
       "2                     Insurgent   \n",
       "3  Star Wars: The Force Awakens   \n",
       "4                     Furious 7   \n",
       "\n",
       "                                                cast  \\\n",
       "0  Chris Pratt|Bryce Dallas Howard|Irrfan Khan|Vi...   \n",
       "1  Tom Hardy|Charlize Theron|Hugh Keays-Byrne|Nic...   \n",
       "2  Shailene Woodley|Theo James|Kate Winslet|Ansel...   \n",
       "3  Harrison Ford|Mark Hamill|Carrie Fisher|Adam D...   \n",
       "4  Vin Diesel|Paul Walker|Jason Statham|Michelle ...   \n",
       "\n",
       "                                            homepage          director  \\\n",
       "0                      http://www.jurassicworld.com/   Colin Trevorrow   \n",
       "1                        http://www.madmaxmovie.com/     George Miller   \n",
       "2     http://www.thedivergentseries.movie/#insurgent  Robert Schwentke   \n",
       "3  http://www.starwars.com/films/star-wars-episod...       J.J. Abrams   \n",
       "4                           http://www.furious7.com/         James Wan   \n",
       "\n",
       "                         tagline  ...  \\\n",
       "0              The park is open.  ...   \n",
       "1             What a Lovely Day.  ...   \n",
       "2     One Choice Can Destroy You  ...   \n",
       "3  Every generation has a story.  ...   \n",
       "4            Vengeance Hits Home  ...   \n",
       "\n",
       "                                            overview runtime  \\\n",
       "0  Twenty-two years after the events of Jurassic ...     124   \n",
       "1  An apocalyptic story set in the furthest reach...     120   \n",
       "2  Beatrice Prior must confront her inner demons ...     119   \n",
       "3  Thirty years after defeating the Galactic Empi...     136   \n",
       "4  Deckard Shaw seeks revenge against Dominic Tor...     137   \n",
       "\n",
       "                                      genres  \\\n",
       "0  Action|Adventure|Science Fiction|Thriller   \n",
       "1  Action|Adventure|Science Fiction|Thriller   \n",
       "2         Adventure|Science Fiction|Thriller   \n",
       "3   Action|Adventure|Science Fiction|Fantasy   \n",
       "4                      Action|Crime|Thriller   \n",
       "\n",
       "                                production_companies release_date vote_count  \\\n",
       "0  Universal Studios|Amblin Entertainment|Legenda...       6/9/15       5562   \n",
       "1  Village Roadshow Pictures|Kennedy Miller Produ...      5/13/15       6185   \n",
       "2  Summit Entertainment|Mandeville Films|Red Wago...      3/18/15       2480   \n",
       "3          Lucasfilm|Truenorth Productions|Bad Robot     12/15/15       5292   \n",
       "4  Universal Pictures|Original Film|Media Rights ...       4/1/15       2947   \n",
       "\n",
       "   vote_average  release_year    budget_adj   revenue_adj  \n",
       "0           6.5          2015  1.379999e+08  1.392446e+09  \n",
       "1           7.1          2015  1.379999e+08  3.481613e+08  \n",
       "2           6.3          2015  1.012000e+08  2.716190e+08  \n",
       "3           7.5          2015  1.839999e+08  1.902723e+09  \n",
       "4           7.3          2015  1.747999e+08  1.385749e+09  \n",
       "\n",
       "[5 rows x 21 columns]"
      ]
     },
     "execution_count": 2,
     "metadata": {},
     "output_type": "execute_result"
    }
   ],
   "source": [
    "df=pd.read_csv('tmdb-movies.csv')\n",
    "df.head()"
   ]
  },
  {
   "cell_type": "markdown",
   "id": "cddab4ff",
   "metadata": {},
   "source": [
    "# 1- Top 10 earning Genres"
   ]
  },
  {
   "cell_type": "markdown",
   "id": "44b3e3ba",
   "metadata": {},
   "source": [
    "**selecting only columns that are important to our question**"
   ]
  },
  {
   "cell_type": "code",
   "execution_count": 3,
   "id": "f8fd2d30",
   "metadata": {},
   "outputs": [
    {
     "data": {
      "text/plain": [
       "Index(['id', 'imdb_id', 'popularity', 'budget', 'revenue', 'original_title',\n",
       "       'cast', 'homepage', 'director', 'tagline', 'keywords', 'overview',\n",
       "       'runtime', 'genres', 'production_companies', 'release_date',\n",
       "       'vote_count', 'vote_average', 'release_year', 'budget_adj',\n",
       "       'revenue_adj'],\n",
       "      dtype='object')"
      ]
     },
     "execution_count": 3,
     "metadata": {},
     "output_type": "execute_result"
    }
   ],
   "source": [
    "df.columns"
   ]
  },
  {
   "cell_type": "code",
   "execution_count": 4,
   "id": "858b02a6",
   "metadata": {},
   "outputs": [
    {
     "data": {
      "text/html": [
       "<div>\n",
       "<style scoped>\n",
       "    .dataframe tbody tr th:only-of-type {\n",
       "        vertical-align: middle;\n",
       "    }\n",
       "\n",
       "    .dataframe tbody tr th {\n",
       "        vertical-align: top;\n",
       "    }\n",
       "\n",
       "    .dataframe thead th {\n",
       "        text-align: right;\n",
       "    }\n",
       "</style>\n",
       "<table border=\"1\" class=\"dataframe\">\n",
       "  <thead>\n",
       "    <tr style=\"text-align: right;\">\n",
       "      <th></th>\n",
       "      <th>budget</th>\n",
       "      <th>revenue</th>\n",
       "      <th>genres</th>\n",
       "      <th>budget_adj</th>\n",
       "      <th>revenue_adj</th>\n",
       "    </tr>\n",
       "  </thead>\n",
       "  <tbody>\n",
       "    <tr>\n",
       "      <th>0</th>\n",
       "      <td>150000000</td>\n",
       "      <td>1513528810</td>\n",
       "      <td>Action|Adventure|Science Fiction|Thriller</td>\n",
       "      <td>1.379999e+08</td>\n",
       "      <td>1.392446e+09</td>\n",
       "    </tr>\n",
       "    <tr>\n",
       "      <th>1</th>\n",
       "      <td>150000000</td>\n",
       "      <td>378436354</td>\n",
       "      <td>Action|Adventure|Science Fiction|Thriller</td>\n",
       "      <td>1.379999e+08</td>\n",
       "      <td>3.481613e+08</td>\n",
       "    </tr>\n",
       "    <tr>\n",
       "      <th>2</th>\n",
       "      <td>110000000</td>\n",
       "      <td>295238201</td>\n",
       "      <td>Adventure|Science Fiction|Thriller</td>\n",
       "      <td>1.012000e+08</td>\n",
       "      <td>2.716190e+08</td>\n",
       "    </tr>\n",
       "    <tr>\n",
       "      <th>3</th>\n",
       "      <td>200000000</td>\n",
       "      <td>2068178225</td>\n",
       "      <td>Action|Adventure|Science Fiction|Fantasy</td>\n",
       "      <td>1.839999e+08</td>\n",
       "      <td>1.902723e+09</td>\n",
       "    </tr>\n",
       "    <tr>\n",
       "      <th>4</th>\n",
       "      <td>190000000</td>\n",
       "      <td>1506249360</td>\n",
       "      <td>Action|Crime|Thriller</td>\n",
       "      <td>1.747999e+08</td>\n",
       "      <td>1.385749e+09</td>\n",
       "    </tr>\n",
       "  </tbody>\n",
       "</table>\n",
       "</div>"
      ],
      "text/plain": [
       "      budget     revenue                                     genres  \\\n",
       "0  150000000  1513528810  Action|Adventure|Science Fiction|Thriller   \n",
       "1  150000000   378436354  Action|Adventure|Science Fiction|Thriller   \n",
       "2  110000000   295238201         Adventure|Science Fiction|Thriller   \n",
       "3  200000000  2068178225   Action|Adventure|Science Fiction|Fantasy   \n",
       "4  190000000  1506249360                      Action|Crime|Thriller   \n",
       "\n",
       "     budget_adj   revenue_adj  \n",
       "0  1.379999e+08  1.392446e+09  \n",
       "1  1.379999e+08  3.481613e+08  \n",
       "2  1.012000e+08  2.716190e+08  \n",
       "3  1.839999e+08  1.902723e+09  \n",
       "4  1.747999e+08  1.385749e+09  "
      ]
     },
     "execution_count": 4,
     "metadata": {},
     "output_type": "execute_result"
    }
   ],
   "source": [
    "genres_df = df[['budget','revenue','genres','budget_adj','revenue_adj']]\n",
    "genres_df.head()"
   ]
  },
  {
   "cell_type": "markdown",
   "id": "2db07862",
   "metadata": {},
   "source": [
    "**percentage of nulls in the data**"
   ]
  },
  {
   "cell_type": "code",
   "execution_count": 5,
   "id": "6b9e9f04",
   "metadata": {},
   "outputs": [
    {
     "data": {
      "text/plain": [
       "budget         0.000000\n",
       "revenue        0.000000\n",
       "genres         0.211669\n",
       "budget_adj     0.000000\n",
       "revenue_adj    0.000000\n",
       "dtype: float64"
      ]
     },
     "execution_count": 5,
     "metadata": {},
     "output_type": "execute_result"
    }
   ],
   "source": [
    "genres_df.isnull().sum()/len(genres_df) * 100"
   ]
  },
  {
   "cell_type": "markdown",
   "id": "ca88fc12",
   "metadata": {},
   "source": [
    "dropping recordes with null values because they make only 0.2% of the data"
   ]
  },
  {
   "cell_type": "code",
   "execution_count": 6,
   "id": "c28a3918",
   "metadata": {},
   "outputs": [],
   "source": [
    "genres_df.dropna(inplace=True)"
   ]
  },
  {
   "cell_type": "markdown",
   "id": "625f1071",
   "metadata": {},
   "source": [
    "**making a new column for profit only**"
   ]
  },
  {
   "cell_type": "code",
   "execution_count": 7,
   "id": "884a6225",
   "metadata": {
    "scrolled": true
   },
   "outputs": [
    {
     "data": {
      "text/html": [
       "<div>\n",
       "<style scoped>\n",
       "    .dataframe tbody tr th:only-of-type {\n",
       "        vertical-align: middle;\n",
       "    }\n",
       "\n",
       "    .dataframe tbody tr th {\n",
       "        vertical-align: top;\n",
       "    }\n",
       "\n",
       "    .dataframe thead th {\n",
       "        text-align: right;\n",
       "    }\n",
       "</style>\n",
       "<table border=\"1\" class=\"dataframe\">\n",
       "  <thead>\n",
       "    <tr style=\"text-align: right;\">\n",
       "      <th></th>\n",
       "      <th>budget</th>\n",
       "      <th>revenue</th>\n",
       "      <th>genres</th>\n",
       "      <th>budget_adj</th>\n",
       "      <th>revenue_adj</th>\n",
       "      <th>profit</th>\n",
       "    </tr>\n",
       "  </thead>\n",
       "  <tbody>\n",
       "    <tr>\n",
       "      <th>0</th>\n",
       "      <td>150000000</td>\n",
       "      <td>1513528810</td>\n",
       "      <td>Action|Adventure|Science Fiction|Thriller</td>\n",
       "      <td>1.379999e+08</td>\n",
       "      <td>1.392446e+09</td>\n",
       "      <td>1363528810</td>\n",
       "    </tr>\n",
       "    <tr>\n",
       "      <th>1</th>\n",
       "      <td>150000000</td>\n",
       "      <td>378436354</td>\n",
       "      <td>Action|Adventure|Science Fiction|Thriller</td>\n",
       "      <td>1.379999e+08</td>\n",
       "      <td>3.481613e+08</td>\n",
       "      <td>228436354</td>\n",
       "    </tr>\n",
       "    <tr>\n",
       "      <th>2</th>\n",
       "      <td>110000000</td>\n",
       "      <td>295238201</td>\n",
       "      <td>Adventure|Science Fiction|Thriller</td>\n",
       "      <td>1.012000e+08</td>\n",
       "      <td>2.716190e+08</td>\n",
       "      <td>185238201</td>\n",
       "    </tr>\n",
       "    <tr>\n",
       "      <th>3</th>\n",
       "      <td>200000000</td>\n",
       "      <td>2068178225</td>\n",
       "      <td>Action|Adventure|Science Fiction|Fantasy</td>\n",
       "      <td>1.839999e+08</td>\n",
       "      <td>1.902723e+09</td>\n",
       "      <td>1868178225</td>\n",
       "    </tr>\n",
       "    <tr>\n",
       "      <th>4</th>\n",
       "      <td>190000000</td>\n",
       "      <td>1506249360</td>\n",
       "      <td>Action|Crime|Thriller</td>\n",
       "      <td>1.747999e+08</td>\n",
       "      <td>1.385749e+09</td>\n",
       "      <td>1316249360</td>\n",
       "    </tr>\n",
       "  </tbody>\n",
       "</table>\n",
       "</div>"
      ],
      "text/plain": [
       "      budget     revenue                                     genres  \\\n",
       "0  150000000  1513528810  Action|Adventure|Science Fiction|Thriller   \n",
       "1  150000000   378436354  Action|Adventure|Science Fiction|Thriller   \n",
       "2  110000000   295238201         Adventure|Science Fiction|Thriller   \n",
       "3  200000000  2068178225   Action|Adventure|Science Fiction|Fantasy   \n",
       "4  190000000  1506249360                      Action|Crime|Thriller   \n",
       "\n",
       "     budget_adj   revenue_adj      profit  \n",
       "0  1.379999e+08  1.392446e+09  1363528810  \n",
       "1  1.379999e+08  3.481613e+08   228436354  \n",
       "2  1.012000e+08  2.716190e+08   185238201  \n",
       "3  1.839999e+08  1.902723e+09  1868178225  \n",
       "4  1.747999e+08  1.385749e+09  1316249360  "
      ]
     },
     "execution_count": 7,
     "metadata": {},
     "output_type": "execute_result"
    }
   ],
   "source": [
    "genres_df['profit'] = genres_df['revenue'] - genres_df['budget']\n",
    "genres_df.head()"
   ]
  },
  {
   "cell_type": "markdown",
   "id": "fb723001",
   "metadata": {},
   "source": [
    "**making a new column for profit adjusted only**"
   ]
  },
  {
   "cell_type": "code",
   "execution_count": 8,
   "id": "a54bdb25",
   "metadata": {
    "scrolled": true
   },
   "outputs": [
    {
     "data": {
      "text/html": [
       "<div>\n",
       "<style scoped>\n",
       "    .dataframe tbody tr th:only-of-type {\n",
       "        vertical-align: middle;\n",
       "    }\n",
       "\n",
       "    .dataframe tbody tr th {\n",
       "        vertical-align: top;\n",
       "    }\n",
       "\n",
       "    .dataframe thead th {\n",
       "        text-align: right;\n",
       "    }\n",
       "</style>\n",
       "<table border=\"1\" class=\"dataframe\">\n",
       "  <thead>\n",
       "    <tr style=\"text-align: right;\">\n",
       "      <th></th>\n",
       "      <th>budget</th>\n",
       "      <th>revenue</th>\n",
       "      <th>genres</th>\n",
       "      <th>budget_adj</th>\n",
       "      <th>revenue_adj</th>\n",
       "      <th>profit</th>\n",
       "      <th>profit_adj</th>\n",
       "    </tr>\n",
       "  </thead>\n",
       "  <tbody>\n",
       "    <tr>\n",
       "      <th>0</th>\n",
       "      <td>150000000</td>\n",
       "      <td>1513528810</td>\n",
       "      <td>Action|Adventure|Science Fiction|Thriller</td>\n",
       "      <td>1.379999e+08</td>\n",
       "      <td>1.392446e+09</td>\n",
       "      <td>1363528810</td>\n",
       "      <td>1.254446e+09</td>\n",
       "    </tr>\n",
       "    <tr>\n",
       "      <th>1</th>\n",
       "      <td>150000000</td>\n",
       "      <td>378436354</td>\n",
       "      <td>Action|Adventure|Science Fiction|Thriller</td>\n",
       "      <td>1.379999e+08</td>\n",
       "      <td>3.481613e+08</td>\n",
       "      <td>228436354</td>\n",
       "      <td>2.101614e+08</td>\n",
       "    </tr>\n",
       "    <tr>\n",
       "      <th>2</th>\n",
       "      <td>110000000</td>\n",
       "      <td>295238201</td>\n",
       "      <td>Adventure|Science Fiction|Thriller</td>\n",
       "      <td>1.012000e+08</td>\n",
       "      <td>2.716190e+08</td>\n",
       "      <td>185238201</td>\n",
       "      <td>1.704191e+08</td>\n",
       "    </tr>\n",
       "    <tr>\n",
       "      <th>3</th>\n",
       "      <td>200000000</td>\n",
       "      <td>2068178225</td>\n",
       "      <td>Action|Adventure|Science Fiction|Fantasy</td>\n",
       "      <td>1.839999e+08</td>\n",
       "      <td>1.902723e+09</td>\n",
       "      <td>1868178225</td>\n",
       "      <td>1.718723e+09</td>\n",
       "    </tr>\n",
       "    <tr>\n",
       "      <th>4</th>\n",
       "      <td>190000000</td>\n",
       "      <td>1506249360</td>\n",
       "      <td>Action|Crime|Thriller</td>\n",
       "      <td>1.747999e+08</td>\n",
       "      <td>1.385749e+09</td>\n",
       "      <td>1316249360</td>\n",
       "      <td>1.210949e+09</td>\n",
       "    </tr>\n",
       "  </tbody>\n",
       "</table>\n",
       "</div>"
      ],
      "text/plain": [
       "      budget     revenue                                     genres  \\\n",
       "0  150000000  1513528810  Action|Adventure|Science Fiction|Thriller   \n",
       "1  150000000   378436354  Action|Adventure|Science Fiction|Thriller   \n",
       "2  110000000   295238201         Adventure|Science Fiction|Thriller   \n",
       "3  200000000  2068178225   Action|Adventure|Science Fiction|Fantasy   \n",
       "4  190000000  1506249360                      Action|Crime|Thriller   \n",
       "\n",
       "     budget_adj   revenue_adj      profit    profit_adj  \n",
       "0  1.379999e+08  1.392446e+09  1363528810  1.254446e+09  \n",
       "1  1.379999e+08  3.481613e+08   228436354  2.101614e+08  \n",
       "2  1.012000e+08  2.716190e+08   185238201  1.704191e+08  \n",
       "3  1.839999e+08  1.902723e+09  1868178225  1.718723e+09  \n",
       "4  1.747999e+08  1.385749e+09  1316249360  1.210949e+09  "
      ]
     },
     "execution_count": 8,
     "metadata": {},
     "output_type": "execute_result"
    }
   ],
   "source": [
    "genres_df['profit_adj'] = genres_df['revenue_adj'] - genres_df['budget_adj']\n",
    "genres_df.head()"
   ]
  },
  {
   "cell_type": "markdown",
   "id": "1e07c268",
   "metadata": {},
   "source": [
    "**splitting movies genres so its easier to work with**"
   ]
  },
  {
   "cell_type": "code",
   "execution_count": 9,
   "id": "427ec1ed",
   "metadata": {
    "scrolled": true
   },
   "outputs": [
    {
     "data": {
      "text/plain": [
       "[['Action', 'Adventure', 'Science Fiction', 'Thriller'],\n",
       " ['Action', 'Adventure', 'Science Fiction', 'Thriller'],\n",
       " ['Adventure', 'Science Fiction', 'Thriller'],\n",
       " ['Action', 'Adventure', 'Science Fiction', 'Fantasy'],\n",
       " ['Action', 'Crime', 'Thriller']]"
      ]
     },
     "execution_count": 9,
     "metadata": {},
     "output_type": "execute_result"
    }
   ],
   "source": [
    "genres=genres_df['genres'].values\n",
    "final_genres=[]\n",
    "for i in range (len(genres)):\n",
    "    x = genres[i].split(\"|\")\n",
    "    final_genres.append(x)\n",
    "\n",
    "final_genres[:5]"
   ]
  },
  {
   "cell_type": "code",
   "execution_count": 10,
   "id": "53d1e550",
   "metadata": {
    "scrolled": true
   },
   "outputs": [
    {
     "data": {
      "text/html": [
       "<div>\n",
       "<style scoped>\n",
       "    .dataframe tbody tr th:only-of-type {\n",
       "        vertical-align: middle;\n",
       "    }\n",
       "\n",
       "    .dataframe tbody tr th {\n",
       "        vertical-align: top;\n",
       "    }\n",
       "\n",
       "    .dataframe thead th {\n",
       "        text-align: right;\n",
       "    }\n",
       "</style>\n",
       "<table border=\"1\" class=\"dataframe\">\n",
       "  <thead>\n",
       "    <tr style=\"text-align: right;\">\n",
       "      <th></th>\n",
       "      <th>budget</th>\n",
       "      <th>revenue</th>\n",
       "      <th>genres</th>\n",
       "      <th>budget_adj</th>\n",
       "      <th>revenue_adj</th>\n",
       "      <th>profit</th>\n",
       "      <th>profit_adj</th>\n",
       "    </tr>\n",
       "  </thead>\n",
       "  <tbody>\n",
       "    <tr>\n",
       "      <th>0</th>\n",
       "      <td>150000000</td>\n",
       "      <td>1513528810</td>\n",
       "      <td>[Action, Adventure, Science Fiction, Thriller]</td>\n",
       "      <td>1.379999e+08</td>\n",
       "      <td>1.392446e+09</td>\n",
       "      <td>1363528810</td>\n",
       "      <td>1.254446e+09</td>\n",
       "    </tr>\n",
       "    <tr>\n",
       "      <th>1</th>\n",
       "      <td>150000000</td>\n",
       "      <td>378436354</td>\n",
       "      <td>[Action, Adventure, Science Fiction, Thriller]</td>\n",
       "      <td>1.379999e+08</td>\n",
       "      <td>3.481613e+08</td>\n",
       "      <td>228436354</td>\n",
       "      <td>2.101614e+08</td>\n",
       "    </tr>\n",
       "    <tr>\n",
       "      <th>2</th>\n",
       "      <td>110000000</td>\n",
       "      <td>295238201</td>\n",
       "      <td>[Adventure, Science Fiction, Thriller]</td>\n",
       "      <td>1.012000e+08</td>\n",
       "      <td>2.716190e+08</td>\n",
       "      <td>185238201</td>\n",
       "      <td>1.704191e+08</td>\n",
       "    </tr>\n",
       "    <tr>\n",
       "      <th>3</th>\n",
       "      <td>200000000</td>\n",
       "      <td>2068178225</td>\n",
       "      <td>[Action, Adventure, Science Fiction, Fantasy]</td>\n",
       "      <td>1.839999e+08</td>\n",
       "      <td>1.902723e+09</td>\n",
       "      <td>1868178225</td>\n",
       "      <td>1.718723e+09</td>\n",
       "    </tr>\n",
       "    <tr>\n",
       "      <th>4</th>\n",
       "      <td>190000000</td>\n",
       "      <td>1506249360</td>\n",
       "      <td>[Action, Crime, Thriller]</td>\n",
       "      <td>1.747999e+08</td>\n",
       "      <td>1.385749e+09</td>\n",
       "      <td>1316249360</td>\n",
       "      <td>1.210949e+09</td>\n",
       "    </tr>\n",
       "  </tbody>\n",
       "</table>\n",
       "</div>"
      ],
      "text/plain": [
       "      budget     revenue                                          genres  \\\n",
       "0  150000000  1513528810  [Action, Adventure, Science Fiction, Thriller]   \n",
       "1  150000000   378436354  [Action, Adventure, Science Fiction, Thriller]   \n",
       "2  110000000   295238201          [Adventure, Science Fiction, Thriller]   \n",
       "3  200000000  2068178225   [Action, Adventure, Science Fiction, Fantasy]   \n",
       "4  190000000  1506249360                       [Action, Crime, Thriller]   \n",
       "\n",
       "     budget_adj   revenue_adj      profit    profit_adj  \n",
       "0  1.379999e+08  1.392446e+09  1363528810  1.254446e+09  \n",
       "1  1.379999e+08  3.481613e+08   228436354  2.101614e+08  \n",
       "2  1.012000e+08  2.716190e+08   185238201  1.704191e+08  \n",
       "3  1.839999e+08  1.902723e+09  1868178225  1.718723e+09  \n",
       "4  1.747999e+08  1.385749e+09  1316249360  1.210949e+09  "
      ]
     },
     "execution_count": 10,
     "metadata": {},
     "output_type": "execute_result"
    }
   ],
   "source": [
    "genres_df['genres'] = final_genres\n",
    "genres_df.head()"
   ]
  },
  {
   "cell_type": "markdown",
   "id": "c5cba5c6",
   "metadata": {},
   "source": [
    "**splitting the genres list into multiple records with single genre**"
   ]
  },
  {
   "cell_type": "code",
   "execution_count": 11,
   "id": "2be51dad",
   "metadata": {},
   "outputs": [
    {
     "data": {
      "text/html": [
       "<div>\n",
       "<style scoped>\n",
       "    .dataframe tbody tr th:only-of-type {\n",
       "        vertical-align: middle;\n",
       "    }\n",
       "\n",
       "    .dataframe tbody tr th {\n",
       "        vertical-align: top;\n",
       "    }\n",
       "\n",
       "    .dataframe thead th {\n",
       "        text-align: right;\n",
       "    }\n",
       "</style>\n",
       "<table border=\"1\" class=\"dataframe\">\n",
       "  <thead>\n",
       "    <tr style=\"text-align: right;\">\n",
       "      <th></th>\n",
       "      <th>budget</th>\n",
       "      <th>revenue</th>\n",
       "      <th>genres</th>\n",
       "      <th>budget_adj</th>\n",
       "      <th>revenue_adj</th>\n",
       "      <th>profit</th>\n",
       "      <th>profit_adj</th>\n",
       "    </tr>\n",
       "  </thead>\n",
       "  <tbody>\n",
       "    <tr>\n",
       "      <th>0</th>\n",
       "      <td>150000000</td>\n",
       "      <td>1513528810</td>\n",
       "      <td>Action</td>\n",
       "      <td>1.379999e+08</td>\n",
       "      <td>1.392446e+09</td>\n",
       "      <td>1363528810</td>\n",
       "      <td>1.254446e+09</td>\n",
       "    </tr>\n",
       "    <tr>\n",
       "      <th>0</th>\n",
       "      <td>150000000</td>\n",
       "      <td>1513528810</td>\n",
       "      <td>Adventure</td>\n",
       "      <td>1.379999e+08</td>\n",
       "      <td>1.392446e+09</td>\n",
       "      <td>1363528810</td>\n",
       "      <td>1.254446e+09</td>\n",
       "    </tr>\n",
       "    <tr>\n",
       "      <th>0</th>\n",
       "      <td>150000000</td>\n",
       "      <td>1513528810</td>\n",
       "      <td>Science Fiction</td>\n",
       "      <td>1.379999e+08</td>\n",
       "      <td>1.392446e+09</td>\n",
       "      <td>1363528810</td>\n",
       "      <td>1.254446e+09</td>\n",
       "    </tr>\n",
       "    <tr>\n",
       "      <th>0</th>\n",
       "      <td>150000000</td>\n",
       "      <td>1513528810</td>\n",
       "      <td>Thriller</td>\n",
       "      <td>1.379999e+08</td>\n",
       "      <td>1.392446e+09</td>\n",
       "      <td>1363528810</td>\n",
       "      <td>1.254446e+09</td>\n",
       "    </tr>\n",
       "    <tr>\n",
       "      <th>1</th>\n",
       "      <td>150000000</td>\n",
       "      <td>378436354</td>\n",
       "      <td>Action</td>\n",
       "      <td>1.379999e+08</td>\n",
       "      <td>3.481613e+08</td>\n",
       "      <td>228436354</td>\n",
       "      <td>2.101614e+08</td>\n",
       "    </tr>\n",
       "  </tbody>\n",
       "</table>\n",
       "</div>"
      ],
      "text/plain": [
       "      budget     revenue           genres    budget_adj   revenue_adj  \\\n",
       "0  150000000  1513528810           Action  1.379999e+08  1.392446e+09   \n",
       "0  150000000  1513528810        Adventure  1.379999e+08  1.392446e+09   \n",
       "0  150000000  1513528810  Science Fiction  1.379999e+08  1.392446e+09   \n",
       "0  150000000  1513528810         Thriller  1.379999e+08  1.392446e+09   \n",
       "1  150000000   378436354           Action  1.379999e+08  3.481613e+08   \n",
       "\n",
       "       profit    profit_adj  \n",
       "0  1363528810  1.254446e+09  \n",
       "0  1363528810  1.254446e+09  \n",
       "0  1363528810  1.254446e+09  \n",
       "0  1363528810  1.254446e+09  \n",
       "1   228436354  2.101614e+08  "
      ]
     },
     "execution_count": 11,
     "metadata": {},
     "output_type": "execute_result"
    }
   ],
   "source": [
    "exp_genres_df = genres_df.explode(column='genres')\n",
    "exp_genres_df.head()"
   ]
  },
  {
   "cell_type": "markdown",
   "id": "d5dc892e",
   "metadata": {},
   "source": [
    "**we can observe that 'Drama', 'Comdy', 'Thriller', 'Action' are the most popular genres**"
   ]
  },
  {
   "cell_type": "code",
   "execution_count": 12,
   "id": "8bab48bf",
   "metadata": {},
   "outputs": [
    {
     "data": {
      "image/png": "[encoded data removed]",
      "text/plain": [
       "<Figure size 1584x720 with 1 Axes>"
      ]
     },
     "metadata": {
      "needs_background": "light"
     },
     "output_type": "display_data"
    }
   ],
   "source": [
    "plt.rcParams['figure.figsize'] = [22, 10]\n",
    "sns.histplot(exp_genres_df['genres'],shrink=0.8)\n",
    "plt.tight_layout()"
   ]
  },
  {
   "cell_type": "markdown",
   "id": "6365fdcf",
   "metadata": {},
   "source": [
    "**let see if most popular meaning most earning**\n",
    "> grouping by the genre and summing the values"
   ]
  },
  {
   "cell_type": "code",
   "execution_count": 13,
   "id": "148694d4",
   "metadata": {},
   "outputs": [
    {
     "data": {
      "text/html": [
       "<div>\n",
       "<style scoped>\n",
       "    .dataframe tbody tr th:only-of-type {\n",
       "        vertical-align: middle;\n",
       "    }\n",
       "\n",
       "    .dataframe tbody tr th {\n",
       "        vertical-align: top;\n",
       "    }\n",
       "\n",
       "    .dataframe thead th {\n",
       "        text-align: right;\n",
       "    }\n",
       "</style>\n",
       "<table border=\"1\" class=\"dataframe\">\n",
       "  <thead>\n",
       "    <tr style=\"text-align: right;\">\n",
       "      <th></th>\n",
       "      <th>budget</th>\n",
       "      <th>revenue</th>\n",
       "      <th>budget_adj</th>\n",
       "      <th>revenue_adj</th>\n",
       "      <th>profit</th>\n",
       "      <th>profit_adj</th>\n",
       "    </tr>\n",
       "    <tr>\n",
       "      <th>genres</th>\n",
       "      <th></th>\n",
       "      <th></th>\n",
       "      <th></th>\n",
       "      <th></th>\n",
       "      <th></th>\n",
       "      <th></th>\n",
       "    </tr>\n",
       "  </thead>\n",
       "  <tbody>\n",
       "    <tr>\n",
       "      <th>Adventure</th>\n",
       "      <td>55226774655</td>\n",
       "      <td>166425793633</td>\n",
       "      <td>6.463182e+10</td>\n",
       "      <td>2.084043e+11</td>\n",
       "      <td>111199018978</td>\n",
       "      <td>1.437724e+11</td>\n",
       "    </tr>\n",
       "    <tr>\n",
       "      <th>Action</th>\n",
       "      <td>66133123670</td>\n",
       "      <td>173543608094</td>\n",
       "      <td>7.860690e+10</td>\n",
       "      <td>2.187527e+11</td>\n",
       "      <td>107410484424</td>\n",
       "      <td>1.401458e+11</td>\n",
       "    </tr>\n",
       "    <tr>\n",
       "      <th>Drama</th>\n",
       "      <td>56582216602</td>\n",
       "      <td>139146504255</td>\n",
       "      <td>7.073282e+10</td>\n",
       "      <td>1.923865e+11</td>\n",
       "      <td>82564287653</td>\n",
       "      <td>1.216537e+11</td>\n",
       "    </tr>\n",
       "    <tr>\n",
       "      <th>Comedy</th>\n",
       "      <td>50438993940</td>\n",
       "      <td>142337036180</td>\n",
       "      <td>6.038575e+10</td>\n",
       "      <td>1.816733e+11</td>\n",
       "      <td>91898042240</td>\n",
       "      <td>1.212876e+11</td>\n",
       "    </tr>\n",
       "    <tr>\n",
       "      <th>Thriller</th>\n",
       "      <td>50052765787</td>\n",
       "      <td>121305476800</td>\n",
       "      <td>6.015537e+10</td>\n",
       "      <td>1.607177e+11</td>\n",
       "      <td>71252711013</td>\n",
       "      <td>1.005623e+11</td>\n",
       "    </tr>\n",
       "  </tbody>\n",
       "</table>\n",
       "</div>"
      ],
      "text/plain": [
       "                budget       revenue    budget_adj   revenue_adj  \\\n",
       "genres                                                             \n",
       "Adventure  55226774655  166425793633  6.463182e+10  2.084043e+11   \n",
       "Action     66133123670  173543608094  7.860690e+10  2.187527e+11   \n",
       "Drama      56582216602  139146504255  7.073282e+10  1.923865e+11   \n",
       "Comedy     50438993940  142337036180  6.038575e+10  1.816733e+11   \n",
       "Thriller   50052765787  121305476800  6.015537e+10  1.607177e+11   \n",
       "\n",
       "                 profit    profit_adj  \n",
       "genres                                 \n",
       "Adventure  111199018978  1.437724e+11  \n",
       "Action     107410484424  1.401458e+11  \n",
       "Drama       82564287653  1.216537e+11  \n",
       "Comedy      91898042240  1.212876e+11  \n",
       "Thriller    71252711013  1.005623e+11  "
      ]
     },
     "execution_count": 13,
     "metadata": {},
     "output_type": "execute_result"
    }
   ],
   "source": [
    "genres_grouped = exp_genres_df.groupby('genres').sum()\n",
    "genres_grouped = genres_grouped.sort_values('profit_adj',ascending=False)\n",
    "genres_grouped.head()"
   ]
  },
  {
   "cell_type": "code",
   "execution_count": 14,
   "id": "3011f017",
   "metadata": {},
   "outputs": [
    {
     "data": {
      "image/png": "[encoded data removed]",
      "text/plain": [
       "<Figure size 1584x720 with 1 Axes>"
      ]
     },
     "metadata": {
      "needs_background": "light"
     },
     "output_type": "display_data"
    }
   ],
   "source": [
    "sns.barplot(x=genres_grouped.index,y='profit_adj',data=genres_grouped,)\n",
    "_ = plt.title('Genres vs profit')\n",
    "_ = plt.xlabel('Genres')\n",
    "_ = plt.ylabel('Profit')"
   ]
  },
  {
   "cell_type": "markdown",
   "id": "d1730661",
   "metadata": {},
   "source": [
    "**as we can see that *Adventure* actually make the most profit**"
   ]
  },
  {
   "cell_type": "markdown",
   "id": "941449a9",
   "metadata": {},
   "source": [
    "## Top 10 earning genres\n",
    ">**Return to our research question**"
   ]
  },
  {
   "cell_type": "code",
   "execution_count": 15,
   "id": "effa65a7",
   "metadata": {},
   "outputs": [
    {
     "name": "stdout",
     "output_type": "stream",
     "text": [
      "1- Adventure with profit = 143772 Mil/$\n",
      "2- Action with profit = 140146 Mil/$\n",
      "3- Drama with profit = 121654 Mil/$\n",
      "4- Comedy with profit = 121288 Mil/$\n",
      "5- Thriller with profit = 100562 Mil/$\n",
      "6- Family with profit = 74861 Mil/$\n",
      "7- Science Fiction with profit = 70582 Mil/$\n",
      "8- Fantasy with profit = 67605 Mil/$\n",
      "9- Romance with profit = 55710 Mil/$\n",
      "10- Crime with profit = 47500 Mil/$\n"
     ]
    }
   ],
   "source": [
    "for i in range(10):\n",
    "    print(f'{i+1}- {genres_grouped.index[i]} with profit = {round(genres_grouped.iloc[i][\"profit_adj\"]/1000000)} Mil/$')"
   ]
  },
  {
   "cell_type": "markdown",
   "id": "82750df7",
   "metadata": {},
   "source": [
    "# 2- Most Earning Companies"
   ]
  },
  {
   "cell_type": "markdown",
   "id": "60fe37d7",
   "metadata": {},
   "source": [
    "**Selecting important column**"
   ]
  },
  {
   "cell_type": "code",
   "execution_count": 16,
   "id": "14ea5f5e",
   "metadata": {},
   "outputs": [
    {
     "data": {
      "text/plain": [
       "Index(['id', 'imdb_id', 'popularity', 'budget', 'revenue', 'original_title',\n",
       "       'cast', 'homepage', 'director', 'tagline', 'keywords', 'overview',\n",
       "       'runtime', 'genres', 'production_companies', 'release_date',\n",
       "       'vote_count', 'vote_average', 'release_year', 'budget_adj',\n",
       "       'revenue_adj'],\n",
       "      dtype='object')"
      ]
     },
     "execution_count": 16,
     "metadata": {},
     "output_type": "execute_result"
    }
   ],
   "source": [
    "df.columns"
   ]
  },
  {
   "cell_type": "code",
   "execution_count": 17,
   "id": "923eccd1",
   "metadata": {},
   "outputs": [
    {
     "data": {
      "text/html": [
       "<div>\n",
       "<style scoped>\n",
       "    .dataframe tbody tr th:only-of-type {\n",
       "        vertical-align: middle;\n",
       "    }\n",
       "\n",
       "    .dataframe tbody tr th {\n",
       "        vertical-align: top;\n",
       "    }\n",
       "\n",
       "    .dataframe thead th {\n",
       "        text-align: right;\n",
       "    }\n",
       "</style>\n",
       "<table border=\"1\" class=\"dataframe\">\n",
       "  <thead>\n",
       "    <tr style=\"text-align: right;\">\n",
       "      <th></th>\n",
       "      <th>budget</th>\n",
       "      <th>revenue</th>\n",
       "      <th>production_companies</th>\n",
       "      <th>budget_adj</th>\n",
       "      <th>revenue_adj</th>\n",
       "    </tr>\n",
       "  </thead>\n",
       "  <tbody>\n",
       "    <tr>\n",
       "      <th>0</th>\n",
       "      <td>150000000</td>\n",
       "      <td>1513528810</td>\n",
       "      <td>Universal Studios|Amblin Entertainment|Legenda...</td>\n",
       "      <td>1.379999e+08</td>\n",
       "      <td>1.392446e+09</td>\n",
       "    </tr>\n",
       "    <tr>\n",
       "      <th>1</th>\n",
       "      <td>150000000</td>\n",
       "      <td>378436354</td>\n",
       "      <td>Village Roadshow Pictures|Kennedy Miller Produ...</td>\n",
       "      <td>1.379999e+08</td>\n",
       "      <td>3.481613e+08</td>\n",
       "    </tr>\n",
       "    <tr>\n",
       "      <th>2</th>\n",
       "      <td>110000000</td>\n",
       "      <td>295238201</td>\n",
       "      <td>Summit Entertainment|Mandeville Films|Red Wago...</td>\n",
       "      <td>1.012000e+08</td>\n",
       "      <td>2.716190e+08</td>\n",
       "    </tr>\n",
       "    <tr>\n",
       "      <th>3</th>\n",
       "      <td>200000000</td>\n",
       "      <td>2068178225</td>\n",
       "      <td>Lucasfilm|Truenorth Productions|Bad Robot</td>\n",
       "      <td>1.839999e+08</td>\n",
       "      <td>1.902723e+09</td>\n",
       "    </tr>\n",
       "    <tr>\n",
       "      <th>4</th>\n",
       "      <td>190000000</td>\n",
       "      <td>1506249360</td>\n",
       "      <td>Universal Pictures|Original Film|Media Rights ...</td>\n",
       "      <td>1.747999e+08</td>\n",
       "      <td>1.385749e+09</td>\n",
       "    </tr>\n",
       "  </tbody>\n",
       "</table>\n",
       "</div>"
      ],
      "text/plain": [
       "      budget     revenue                               production_companies  \\\n",
       "0  150000000  1513528810  Universal Studios|Amblin Entertainment|Legenda...   \n",
       "1  150000000   378436354  Village Roadshow Pictures|Kennedy Miller Produ...   \n",
       "2  110000000   295238201  Summit Entertainment|Mandeville Films|Red Wago...   \n",
       "3  200000000  2068178225          Lucasfilm|Truenorth Productions|Bad Robot   \n",
       "4  190000000  1506249360  Universal Pictures|Original Film|Media Rights ...   \n",
       "\n",
       "     budget_adj   revenue_adj  \n",
       "0  1.379999e+08  1.392446e+09  \n",
       "1  1.379999e+08  3.481613e+08  \n",
       "2  1.012000e+08  2.716190e+08  \n",
       "3  1.839999e+08  1.902723e+09  \n",
       "4  1.747999e+08  1.385749e+09  "
      ]
     },
     "execution_count": 17,
     "metadata": {},
     "output_type": "execute_result"
    }
   ],
   "source": [
    "cols = ['budget', 'revenue','production_companies','budget_adj', 'revenue_adj']\n",
    "companies_df = df[cols]\n",
    "companies_df.head()"
   ]
  },
  {
   "cell_type": "markdown",
   "id": "40a67d36",
   "metadata": {},
   "source": [
    "**Removing null values**"
   ]
  },
  {
   "cell_type": "code",
   "execution_count": 18,
   "id": "c20e0a65",
   "metadata": {},
   "outputs": [
    {
     "data": {
      "text/plain": [
       "budget                  0.000000\n",
       "revenue                 0.000000\n",
       "production_companies    9.479109\n",
       "budget_adj              0.000000\n",
       "revenue_adj             0.000000\n",
       "dtype: float64"
      ]
     },
     "execution_count": 18,
     "metadata": {},
     "output_type": "execute_result"
    }
   ],
   "source": [
    "companies_df.isnull().sum()/len(companies_df) * 100"
   ]
  },
  {
   "cell_type": "code",
   "execution_count": 19,
   "id": "7fd62325",
   "metadata": {},
   "outputs": [],
   "source": [
    "companies_df.dropna(inplace=True)"
   ]
  },
  {
   "cell_type": "markdown",
   "id": "e3ee90bf",
   "metadata": {},
   "source": [
    "**Creating a column for profit**"
   ]
  },
  {
   "cell_type": "code",
   "execution_count": 20,
   "id": "972f0bf2",
   "metadata": {},
   "outputs": [
    {
     "data": {
      "text/html": [
       "<div>\n",
       "<style scoped>\n",
       "    .dataframe tbody tr th:only-of-type {\n",
       "        vertical-align: middle;\n",
       "    }\n",
       "\n",
       "    .dataframe tbody tr th {\n",
       "        vertical-align: top;\n",
       "    }\n",
       "\n",
       "    .dataframe thead th {\n",
       "        text-align: right;\n",
       "    }\n",
       "</style>\n",
       "<table border=\"1\" class=\"dataframe\">\n",
       "  <thead>\n",
       "    <tr style=\"text-align: right;\">\n",
       "      <th></th>\n",
       "      <th>budget</th>\n",
       "      <th>revenue</th>\n",
       "      <th>production_companies</th>\n",
       "      <th>budget_adj</th>\n",
       "      <th>revenue_adj</th>\n",
       "      <th>profit</th>\n",
       "    </tr>\n",
       "  </thead>\n",
       "  <tbody>\n",
       "    <tr>\n",
       "      <th>0</th>\n",
       "      <td>150000000</td>\n",
       "      <td>1513528810</td>\n",
       "      <td>Universal Studios|Amblin Entertainment|Legenda...</td>\n",
       "      <td>1.379999e+08</td>\n",
       "      <td>1.392446e+09</td>\n",
       "      <td>1363528810</td>\n",
       "    </tr>\n",
       "    <tr>\n",
       "      <th>1</th>\n",
       "      <td>150000000</td>\n",
       "      <td>378436354</td>\n",
       "      <td>Village Roadshow Pictures|Kennedy Miller Produ...</td>\n",
       "      <td>1.379999e+08</td>\n",
       "      <td>3.481613e+08</td>\n",
       "      <td>228436354</td>\n",
       "    </tr>\n",
       "    <tr>\n",
       "      <th>2</th>\n",
       "      <td>110000000</td>\n",
       "      <td>295238201</td>\n",
       "      <td>Summit Entertainment|Mandeville Films|Red Wago...</td>\n",
       "      <td>1.012000e+08</td>\n",
       "      <td>2.716190e+08</td>\n",
       "      <td>185238201</td>\n",
       "    </tr>\n",
       "    <tr>\n",
       "      <th>3</th>\n",
       "      <td>200000000</td>\n",
       "      <td>2068178225</td>\n",
       "      <td>Lucasfilm|Truenorth Productions|Bad Robot</td>\n",
       "      <td>1.839999e+08</td>\n",
       "      <td>1.902723e+09</td>\n",
       "      <td>1868178225</td>\n",
       "    </tr>\n",
       "    <tr>\n",
       "      <th>4</th>\n",
       "      <td>190000000</td>\n",
       "      <td>1506249360</td>\n",
       "      <td>Universal Pictures|Original Film|Media Rights ...</td>\n",
       "      <td>1.747999e+08</td>\n",
       "      <td>1.385749e+09</td>\n",
       "      <td>1316249360</td>\n",
       "    </tr>\n",
       "  </tbody>\n",
       "</table>\n",
       "</div>"
      ],
      "text/plain": [
       "      budget     revenue                               production_companies  \\\n",
       "0  150000000  1513528810  Universal Studios|Amblin Entertainment|Legenda...   \n",
       "1  150000000   378436354  Village Roadshow Pictures|Kennedy Miller Produ...   \n",
       "2  110000000   295238201  Summit Entertainment|Mandeville Films|Red Wago...   \n",
       "3  200000000  2068178225          Lucasfilm|Truenorth Productions|Bad Robot   \n",
       "4  190000000  1506249360  Universal Pictures|Original Film|Media Rights ...   \n",
       "\n",
       "     budget_adj   revenue_adj      profit  \n",
       "0  1.379999e+08  1.392446e+09  1363528810  \n",
       "1  1.379999e+08  3.481613e+08   228436354  \n",
       "2  1.012000e+08  2.716190e+08   185238201  \n",
       "3  1.839999e+08  1.902723e+09  1868178225  \n",
       "4  1.747999e+08  1.385749e+09  1316249360  "
      ]
     },
     "execution_count": 20,
     "metadata": {},
     "output_type": "execute_result"
    }
   ],
   "source": [
    "companies_df['profit'] = companies_df['revenue'] - companies_df['budget']\n",
    "companies_df.head()"
   ]
  },
  {
   "cell_type": "markdown",
   "id": "28dddb4e",
   "metadata": {},
   "source": [
    "**Creating a column for profit_adj**"
   ]
  },
  {
   "cell_type": "code",
   "execution_count": 21,
   "id": "7cea9a23",
   "metadata": {},
   "outputs": [
    {
     "data": {
      "text/html": [
       "<div>\n",
       "<style scoped>\n",
       "    .dataframe tbody tr th:only-of-type {\n",
       "        vertical-align: middle;\n",
       "    }\n",
       "\n",
       "    .dataframe tbody tr th {\n",
       "        vertical-align: top;\n",
       "    }\n",
       "\n",
       "    .dataframe thead th {\n",
       "        text-align: right;\n",
       "    }\n",
       "</style>\n",
       "<table border=\"1\" class=\"dataframe\">\n",
       "  <thead>\n",
       "    <tr style=\"text-align: right;\">\n",
       "      <th></th>\n",
       "      <th>budget</th>\n",
       "      <th>revenue</th>\n",
       "      <th>production_companies</th>\n",
       "      <th>budget_adj</th>\n",
       "      <th>revenue_adj</th>\n",
       "      <th>profit</th>\n",
       "      <th>profit_adj</th>\n",
       "    </tr>\n",
       "  </thead>\n",
       "  <tbody>\n",
       "    <tr>\n",
       "      <th>0</th>\n",
       "      <td>150000000</td>\n",
       "      <td>1513528810</td>\n",
       "      <td>Universal Studios|Amblin Entertainment|Legenda...</td>\n",
       "      <td>1.379999e+08</td>\n",
       "      <td>1.392446e+09</td>\n",
       "      <td>1363528810</td>\n",
       "      <td>1.254446e+09</td>\n",
       "    </tr>\n",
       "    <tr>\n",
       "      <th>1</th>\n",
       "      <td>150000000</td>\n",
       "      <td>378436354</td>\n",
       "      <td>Village Roadshow Pictures|Kennedy Miller Produ...</td>\n",
       "      <td>1.379999e+08</td>\n",
       "      <td>3.481613e+08</td>\n",
       "      <td>228436354</td>\n",
       "      <td>2.101614e+08</td>\n",
       "    </tr>\n",
       "    <tr>\n",
       "      <th>2</th>\n",
       "      <td>110000000</td>\n",
       "      <td>295238201</td>\n",
       "      <td>Summit Entertainment|Mandeville Films|Red Wago...</td>\n",
       "      <td>1.012000e+08</td>\n",
       "      <td>2.716190e+08</td>\n",
       "      <td>185238201</td>\n",
       "      <td>1.704191e+08</td>\n",
       "    </tr>\n",
       "    <tr>\n",
       "      <th>3</th>\n",
       "      <td>200000000</td>\n",
       "      <td>2068178225</td>\n",
       "      <td>Lucasfilm|Truenorth Productions|Bad Robot</td>\n",
       "      <td>1.839999e+08</td>\n",
       "      <td>1.902723e+09</td>\n",
       "      <td>1868178225</td>\n",
       "      <td>1.718723e+09</td>\n",
       "    </tr>\n",
       "    <tr>\n",
       "      <th>4</th>\n",
       "      <td>190000000</td>\n",
       "      <td>1506249360</td>\n",
       "      <td>Universal Pictures|Original Film|Media Rights ...</td>\n",
       "      <td>1.747999e+08</td>\n",
       "      <td>1.385749e+09</td>\n",
       "      <td>1316249360</td>\n",
       "      <td>1.210949e+09</td>\n",
       "    </tr>\n",
       "  </tbody>\n",
       "</table>\n",
       "</div>"
      ],
      "text/plain": [
       "      budget     revenue                               production_companies  \\\n",
       "0  150000000  1513528810  Universal Studios|Amblin Entertainment|Legenda...   \n",
       "1  150000000   378436354  Village Roadshow Pictures|Kennedy Miller Produ...   \n",
       "2  110000000   295238201  Summit Entertainment|Mandeville Films|Red Wago...   \n",
       "3  200000000  2068178225          Lucasfilm|Truenorth Productions|Bad Robot   \n",
       "4  190000000  1506249360  Universal Pictures|Original Film|Media Rights ...   \n",
       "\n",
       "     budget_adj   revenue_adj      profit    profit_adj  \n",
       "0  1.379999e+08  1.392446e+09  1363528810  1.254446e+09  \n",
       "1  1.379999e+08  3.481613e+08   228436354  2.101614e+08  \n",
       "2  1.012000e+08  2.716190e+08   185238201  1.704191e+08  \n",
       "3  1.839999e+08  1.902723e+09  1868178225  1.718723e+09  \n",
       "4  1.747999e+08  1.385749e+09  1316249360  1.210949e+09  "
      ]
     },
     "execution_count": 21,
     "metadata": {},
     "output_type": "execute_result"
    }
   ],
   "source": [
    "companies_df['profit_adj'] = companies_df['revenue_adj'] - companies_df['budget_adj']\n",
    "companies_df.head()"
   ]
  },
  {
   "cell_type": "markdown",
   "id": "d14f0940",
   "metadata": {},
   "source": [
    "**Spliting 'production_companies' into a list of companies**"
   ]
  },
  {
   "cell_type": "code",
   "execution_count": 22,
   "id": "6b76f5d6",
   "metadata": {},
   "outputs": [
    {
     "data": {
      "text/plain": [
       "[['Universal Studios',\n",
       "  'Amblin Entertainment',\n",
       "  'Legendary Pictures',\n",
       "  'Fuji Television Network',\n",
       "  'Dentsu'],\n",
       " ['Village Roadshow Pictures', 'Kennedy Miller Productions'],\n",
       " ['Summit Entertainment',\n",
       "  'Mandeville Films',\n",
       "  'Red Wagon Entertainment',\n",
       "  'NeoReel'],\n",
       " ['Lucasfilm', 'Truenorth Productions', 'Bad Robot'],\n",
       " ['Universal Pictures',\n",
       "  'Original Film',\n",
       "  'Media Rights Capital',\n",
       "  'Dentsu',\n",
       "  'One Race Films']]"
      ]
     },
     "execution_count": 22,
     "metadata": {},
     "output_type": "execute_result"
    }
   ],
   "source": [
    "companies=companies_df.production_companies.values\n",
    "final_companies=[]\n",
    "for i in range (len(companies)):\n",
    "    x = companies[i].split(\"|\")\n",
    "    final_companies.append(x)\n",
    "\n",
    "final_companies[:5]"
   ]
  },
  {
   "cell_type": "code",
   "execution_count": 23,
   "id": "2911f1e2",
   "metadata": {
    "scrolled": false
   },
   "outputs": [
    {
     "data": {
      "text/html": [
       "<div>\n",
       "<style scoped>\n",
       "    .dataframe tbody tr th:only-of-type {\n",
       "        vertical-align: middle;\n",
       "    }\n",
       "\n",
       "    .dataframe tbody tr th {\n",
       "        vertical-align: top;\n",
       "    }\n",
       "\n",
       "    .dataframe thead th {\n",
       "        text-align: right;\n",
       "    }\n",
       "</style>\n",
       "<table border=\"1\" class=\"dataframe\">\n",
       "  <thead>\n",
       "    <tr style=\"text-align: right;\">\n",
       "      <th></th>\n",
       "      <th>budget</th>\n",
       "      <th>revenue</th>\n",
       "      <th>production_companies</th>\n",
       "      <th>budget_adj</th>\n",
       "      <th>revenue_adj</th>\n",
       "      <th>profit</th>\n",
       "      <th>profit_adj</th>\n",
       "    </tr>\n",
       "  </thead>\n",
       "  <tbody>\n",
       "    <tr>\n",
       "      <th>0</th>\n",
       "      <td>150000000</td>\n",
       "      <td>1513528810</td>\n",
       "      <td>[Universal Studios, Amblin Entertainment, Lege...</td>\n",
       "      <td>1.379999e+08</td>\n",
       "      <td>1.392446e+09</td>\n",
       "      <td>1363528810</td>\n",
       "      <td>1.254446e+09</td>\n",
       "    </tr>\n",
       "    <tr>\n",
       "      <th>1</th>\n",
       "      <td>150000000</td>\n",
       "      <td>378436354</td>\n",
       "      <td>[Village Roadshow Pictures, Kennedy Miller Pro...</td>\n",
       "      <td>1.379999e+08</td>\n",
       "      <td>3.481613e+08</td>\n",
       "      <td>228436354</td>\n",
       "      <td>2.101614e+08</td>\n",
       "    </tr>\n",
       "    <tr>\n",
       "      <th>2</th>\n",
       "      <td>110000000</td>\n",
       "      <td>295238201</td>\n",
       "      <td>[Summit Entertainment, Mandeville Films, Red W...</td>\n",
       "      <td>1.012000e+08</td>\n",
       "      <td>2.716190e+08</td>\n",
       "      <td>185238201</td>\n",
       "      <td>1.704191e+08</td>\n",
       "    </tr>\n",
       "    <tr>\n",
       "      <th>3</th>\n",
       "      <td>200000000</td>\n",
       "      <td>2068178225</td>\n",
       "      <td>[Lucasfilm, Truenorth Productions, Bad Robot]</td>\n",
       "      <td>1.839999e+08</td>\n",
       "      <td>1.902723e+09</td>\n",
       "      <td>1868178225</td>\n",
       "      <td>1.718723e+09</td>\n",
       "    </tr>\n",
       "    <tr>\n",
       "      <th>4</th>\n",
       "      <td>190000000</td>\n",
       "      <td>1506249360</td>\n",
       "      <td>[Universal Pictures, Original Film, Media Righ...</td>\n",
       "      <td>1.747999e+08</td>\n",
       "      <td>1.385749e+09</td>\n",
       "      <td>1316249360</td>\n",
       "      <td>1.210949e+09</td>\n",
       "    </tr>\n",
       "  </tbody>\n",
       "</table>\n",
       "</div>"
      ],
      "text/plain": [
       "      budget     revenue                               production_companies  \\\n",
       "0  150000000  1513528810  [Universal Studios, Amblin Entertainment, Lege...   \n",
       "1  150000000   378436354  [Village Roadshow Pictures, Kennedy Miller Pro...   \n",
       "2  110000000   295238201  [Summit Entertainment, Mandeville Films, Red W...   \n",
       "3  200000000  2068178225      [Lucasfilm, Truenorth Productions, Bad Robot]   \n",
       "4  190000000  1506249360  [Universal Pictures, Original Film, Media Righ...   \n",
       "\n",
       "     budget_adj   revenue_adj      profit    profit_adj  \n",
       "0  1.379999e+08  1.392446e+09  1363528810  1.254446e+09  \n",
       "1  1.379999e+08  3.481613e+08   228436354  2.101614e+08  \n",
       "2  1.012000e+08  2.716190e+08   185238201  1.704191e+08  \n",
       "3  1.839999e+08  1.902723e+09  1868178225  1.718723e+09  \n",
       "4  1.747999e+08  1.385749e+09  1316249360  1.210949e+09  "
      ]
     },
     "execution_count": 23,
     "metadata": {},
     "output_type": "execute_result"
    }
   ],
   "source": [
    "companies_df.production_companies = final_companies\n",
    "companies_df.head()"
   ]
  },
  {
   "cell_type": "markdown",
   "id": "f78ca8eb",
   "metadata": {},
   "source": [
    "**Creating new records each with a single production company**"
   ]
  },
  {
   "cell_type": "code",
   "execution_count": 24,
   "id": "a1fa836f",
   "metadata": {
    "scrolled": true
   },
   "outputs": [
    {
     "data": {
      "text/html": [
       "<div>\n",
       "<style scoped>\n",
       "    .dataframe tbody tr th:only-of-type {\n",
       "        vertical-align: middle;\n",
       "    }\n",
       "\n",
       "    .dataframe tbody tr th {\n",
       "        vertical-align: top;\n",
       "    }\n",
       "\n",
       "    .dataframe thead th {\n",
       "        text-align: right;\n",
       "    }\n",
       "</style>\n",
       "<table border=\"1\" class=\"dataframe\">\n",
       "  <thead>\n",
       "    <tr style=\"text-align: right;\">\n",
       "      <th></th>\n",
       "      <th>budget</th>\n",
       "      <th>revenue</th>\n",
       "      <th>production_companies</th>\n",
       "      <th>budget_adj</th>\n",
       "      <th>revenue_adj</th>\n",
       "      <th>profit</th>\n",
       "      <th>profit_adj</th>\n",
       "    </tr>\n",
       "  </thead>\n",
       "  <tbody>\n",
       "    <tr>\n",
       "      <th>0</th>\n",
       "      <td>150000000</td>\n",
       "      <td>1513528810</td>\n",
       "      <td>Universal Studios</td>\n",
       "      <td>1.379999e+08</td>\n",
       "      <td>1.392446e+09</td>\n",
       "      <td>1363528810</td>\n",
       "      <td>1.254446e+09</td>\n",
       "    </tr>\n",
       "    <tr>\n",
       "      <th>0</th>\n",
       "      <td>150000000</td>\n",
       "      <td>1513528810</td>\n",
       "      <td>Amblin Entertainment</td>\n",
       "      <td>1.379999e+08</td>\n",
       "      <td>1.392446e+09</td>\n",
       "      <td>1363528810</td>\n",
       "      <td>1.254446e+09</td>\n",
       "    </tr>\n",
       "    <tr>\n",
       "      <th>0</th>\n",
       "      <td>150000000</td>\n",
       "      <td>1513528810</td>\n",
       "      <td>Legendary Pictures</td>\n",
       "      <td>1.379999e+08</td>\n",
       "      <td>1.392446e+09</td>\n",
       "      <td>1363528810</td>\n",
       "      <td>1.254446e+09</td>\n",
       "    </tr>\n",
       "    <tr>\n",
       "      <th>0</th>\n",
       "      <td>150000000</td>\n",
       "      <td>1513528810</td>\n",
       "      <td>Fuji Television Network</td>\n",
       "      <td>1.379999e+08</td>\n",
       "      <td>1.392446e+09</td>\n",
       "      <td>1363528810</td>\n",
       "      <td>1.254446e+09</td>\n",
       "    </tr>\n",
       "    <tr>\n",
       "      <th>0</th>\n",
       "      <td>150000000</td>\n",
       "      <td>1513528810</td>\n",
       "      <td>Dentsu</td>\n",
       "      <td>1.379999e+08</td>\n",
       "      <td>1.392446e+09</td>\n",
       "      <td>1363528810</td>\n",
       "      <td>1.254446e+09</td>\n",
       "    </tr>\n",
       "  </tbody>\n",
       "</table>\n",
       "</div>"
      ],
      "text/plain": [
       "      budget     revenue     production_companies    budget_adj   revenue_adj  \\\n",
       "0  150000000  1513528810        Universal Studios  1.379999e+08  1.392446e+09   \n",
       "0  150000000  1513528810     Amblin Entertainment  1.379999e+08  1.392446e+09   \n",
       "0  150000000  1513528810       Legendary Pictures  1.379999e+08  1.392446e+09   \n",
       "0  150000000  1513528810  Fuji Television Network  1.379999e+08  1.392446e+09   \n",
       "0  150000000  1513528810                   Dentsu  1.379999e+08  1.392446e+09   \n",
       "\n",
       "       profit    profit_adj  \n",
       "0  1363528810  1.254446e+09  \n",
       "0  1363528810  1.254446e+09  \n",
       "0  1363528810  1.254446e+09  \n",
       "0  1363528810  1.254446e+09  \n",
       "0  1363528810  1.254446e+09  "
      ]
     },
     "execution_count": 24,
     "metadata": {},
     "output_type": "execute_result"
    }
   ],
   "source": [
    "exp_companies_df = companies_df.explode(column='production_companies')\n",
    "exp_companies_df.head()"
   ]
  },
  {
   "cell_type": "code",
   "execution_count": 25,
   "id": "e96999c5",
   "metadata": {},
   "outputs": [],
   "source": [
    "exp_companies_df.production_companies[exp_companies_df.production_companies == 'Columbia Pictures Corporation'] = 'Columbia Pictures'"
   ]
  },
  {
   "cell_type": "markdown",
   "id": "cb70edf4",
   "metadata": {},
   "source": [
    "**Let's see which companies are producing most of the movies**"
   ]
  },
  {
   "cell_type": "code",
   "execution_count": 26,
   "id": "c540d8a6",
   "metadata": {},
   "outputs": [],
   "source": [
    "top_10 = exp_companies_df.production_companies.value_counts()[:10]"
   ]
  },
  {
   "cell_type": "code",
   "execution_count": 27,
   "id": "8ff6a7bd",
   "metadata": {},
   "outputs": [
    {
     "data": {
      "image/png": "[encoded data removed]",
      "text/plain": [
       "<Figure size 1584x720 with 1 Axes>"
      ]
     },
     "metadata": {
      "needs_background": "light"
     },
     "output_type": "display_data"
    }
   ],
   "source": [
    "sns.barplot(x = top_10.index,y =top_10)\n",
    "_ = plt.title('top 10 production companies in terms of movies produced')\n",
    "_ = plt.xlabel('production company')\n",
    "_ = plt.ylabel('number of movies')\n",
    "plt.tight_layout()"
   ]
  },
  {
   "cell_type": "markdown",
   "id": "3e8fb590",
   "metadata": {},
   "source": [
    "**We see that 'Universal Pictures', 'Warner Bros.', 'Columbia Pictures' are top 3 in terms of number of movies produced**\n",
    "\n",
    "> is more production = more profit ?"
   ]
  },
  {
   "cell_type": "markdown",
   "id": "059afa18",
   "metadata": {},
   "source": [
    "**Let's group the data by production company and taking the sum**"
   ]
  },
  {
   "cell_type": "code",
   "execution_count": 28,
   "id": "1f655c8c",
   "metadata": {},
   "outputs": [
    {
     "data": {
      "text/html": [
       "<div>\n",
       "<style scoped>\n",
       "    .dataframe tbody tr th:only-of-type {\n",
       "        vertical-align: middle;\n",
       "    }\n",
       "\n",
       "    .dataframe tbody tr th {\n",
       "        vertical-align: top;\n",
       "    }\n",
       "\n",
       "    .dataframe thead th {\n",
       "        text-align: right;\n",
       "    }\n",
       "</style>\n",
       "<table border=\"1\" class=\"dataframe\">\n",
       "  <thead>\n",
       "    <tr style=\"text-align: right;\">\n",
       "      <th></th>\n",
       "      <th>budget</th>\n",
       "      <th>revenue</th>\n",
       "      <th>budget_adj</th>\n",
       "      <th>revenue_adj</th>\n",
       "      <th>profit</th>\n",
       "      <th>profit_adj</th>\n",
       "    </tr>\n",
       "    <tr>\n",
       "      <th>production_companies</th>\n",
       "      <th></th>\n",
       "      <th></th>\n",
       "      <th></th>\n",
       "      <th></th>\n",
       "      <th></th>\n",
       "      <th></th>\n",
       "    </tr>\n",
       "  </thead>\n",
       "  <tbody>\n",
       "    <tr>\n",
       "      <th>Warner Bros.</th>\n",
       "      <td>19984610367</td>\n",
       "      <td>54688433698</td>\n",
       "      <td>2.428118e+10</td>\n",
       "      <td>7.104849e+10</td>\n",
       "      <td>34703823331</td>\n",
       "      <td>4.676730e+10</td>\n",
       "    </tr>\n",
       "    <tr>\n",
       "      <th>Universal Pictures</th>\n",
       "      <td>15559560132</td>\n",
       "      <td>48134982923</td>\n",
       "      <td>1.905047e+10</td>\n",
       "      <td>6.432196e+10</td>\n",
       "      <td>32575422791</td>\n",
       "      <td>4.527149e+10</td>\n",
       "    </tr>\n",
       "    <tr>\n",
       "      <th>Paramount Pictures</th>\n",
       "      <td>13810208042</td>\n",
       "      <td>41348789455</td>\n",
       "      <td>1.714528e+10</td>\n",
       "      <td>5.746967e+10</td>\n",
       "      <td>27538581413</td>\n",
       "      <td>4.032439e+10</td>\n",
       "    </tr>\n",
       "    <tr>\n",
       "      <th>Twentieth Century Fox Film Corporation</th>\n",
       "      <td>10425425801</td>\n",
       "      <td>37828180788</td>\n",
       "      <td>1.310439e+10</td>\n",
       "      <td>5.224729e+10</td>\n",
       "      <td>27402754987</td>\n",
       "      <td>3.914289e+10</td>\n",
       "    </tr>\n",
       "    <tr>\n",
       "      <th>Columbia Pictures</th>\n",
       "      <td>16334715235</td>\n",
       "      <td>42022854568</td>\n",
       "      <td>1.933658e+10</td>\n",
       "      <td>5.138099e+10</td>\n",
       "      <td>25688139333</td>\n",
       "      <td>3.204442e+10</td>\n",
       "    </tr>\n",
       "  </tbody>\n",
       "</table>\n",
       "</div>"
      ],
      "text/plain": [
       "                                             budget      revenue  \\\n",
       "production_companies                                               \n",
       "Warner Bros.                            19984610367  54688433698   \n",
       "Universal Pictures                      15559560132  48134982923   \n",
       "Paramount Pictures                      13810208042  41348789455   \n",
       "Twentieth Century Fox Film Corporation  10425425801  37828180788   \n",
       "Columbia Pictures                       16334715235  42022854568   \n",
       "\n",
       "                                          budget_adj   revenue_adj  \\\n",
       "production_companies                                                 \n",
       "Warner Bros.                            2.428118e+10  7.104849e+10   \n",
       "Universal Pictures                      1.905047e+10  6.432196e+10   \n",
       "Paramount Pictures                      1.714528e+10  5.746967e+10   \n",
       "Twentieth Century Fox Film Corporation  1.310439e+10  5.224729e+10   \n",
       "Columbia Pictures                       1.933658e+10  5.138099e+10   \n",
       "\n",
       "                                             profit    profit_adj  \n",
       "production_companies                                               \n",
       "Warner Bros.                            34703823331  4.676730e+10  \n",
       "Universal Pictures                      32575422791  4.527149e+10  \n",
       "Paramount Pictures                      27538581413  4.032439e+10  \n",
       "Twentieth Century Fox Film Corporation  27402754987  3.914289e+10  \n",
       "Columbia Pictures                       25688139333  3.204442e+10  "
      ]
     },
     "execution_count": 28,
     "metadata": {},
     "output_type": "execute_result"
    }
   ],
   "source": [
    "companies_grouped = exp_companies_df.groupby('production_companies').sum()\n",
    "companies_grouped = companies_grouped.sort_values('profit_adj',ascending=False)\n",
    "companies_grouped.head()"
   ]
  },
  {
   "cell_type": "code",
   "execution_count": 29,
   "id": "a903b8d4",
   "metadata": {},
   "outputs": [
    {
     "data": {
      "image/png": "[encoded data removed]",
      "text/plain": [
       "<Figure size 1584x720 with 1 Axes>"
      ]
     },
     "metadata": {
      "needs_background": "light"
     },
     "output_type": "display_data"
    }
   ],
   "source": [
    "sns.regplot(x = exp_companies_df.production_companies.value_counts().values,\n",
    "            y=companies_grouped['profit_adj'].loc[exp_companies_df.production_companies.value_counts().index])\n",
    "_ = plt.title('movies produced vs profit')\n",
    "_ = plt.xlabel('number of movies')\n",
    "_ = plt.ylabel('profit')"
   ]
  },
  {
   "cell_type": "markdown",
   "id": "f4aa3093",
   "metadata": {},
   "source": [
    "**In general, Yes more production = more earning**"
   ]
  },
  {
   "cell_type": "code",
   "execution_count": 30,
   "id": "f8082524",
   "metadata": {},
   "outputs": [
    {
     "data": {
      "image/png": "[encoded data removed]",
      "text/plain": [
       "<Figure size 1584x720 with 1 Axes>"
      ]
     },
     "metadata": {
      "needs_background": "light"
     },
     "output_type": "display_data"
    }
   ],
   "source": [
    "sns.barplot(x=companies_grouped.index[:10],y='profit_adj',data=companies_grouped.iloc[:10],)\n",
    "_ = plt.title('top 10 production companies in terms of profit')\n",
    "_ = plt.xlabel('production company')\n",
    "_ = plt.ylabel('profit')\n",
    "plt.tight_layout()"
   ]
  },
  {
   "cell_type": "markdown",
   "id": "5dbb4646",
   "metadata": {},
   "source": [
    "**We can see that 'Warner Bros.' swaped with 'Universal Pictures' and the are some changes in the rest of the graph**"
   ]
  },
  {
   "cell_type": "markdown",
   "id": "a7763e5f",
   "metadata": {},
   "source": [
    "## Top 10 earning production Companies"
   ]
  },
  {
   "cell_type": "code",
   "execution_count": 31,
   "id": "4db3b667",
   "metadata": {},
   "outputs": [
    {
     "name": "stdout",
     "output_type": "stream",
     "text": [
      "1- Warner Bros. with total profit = 46767 Mil/$\n",
      "2- Universal Pictures with total profit = 45271 Mil/$\n",
      "3- Paramount Pictures with total profit = 40324 Mil/$\n",
      "4- Twentieth Century Fox Film Corporation with total profit = 39143 Mil/$\n",
      "5- Columbia Pictures with total profit = 32044 Mil/$\n",
      "6- Walt Disney Pictures with total profit = 25639 Mil/$\n",
      "7- Amblin Entertainment with total profit = 17005 Mil/$\n",
      "8- New Line Cinema with total profit = 15874 Mil/$\n",
      "9- Metro-Goldwyn-Mayer (MGM) with total profit = 14286 Mil/$\n",
      "10- Lucasfilm with total profit = 13095 Mil/$\n"
     ]
    }
   ],
   "source": [
    "for i in range(10):\n",
    "    print(f'{i+1}- {companies_grouped.index[i]} with total profit = {round(companies_grouped.iloc[i][\"profit_adj\"]/1000000)} Mil/$')"
   ]
  },
  {
   "cell_type": "markdown",
   "id": "a99b0592",
   "metadata": {},
   "source": [
    "# 3- Most Successful director"
   ]
  },
  {
   "cell_type": "markdown",
   "id": "1eedd7f4",
   "metadata": {},
   "source": [
    "**Choosing the important columns for answering the question**"
   ]
  },
  {
   "cell_type": "code",
   "execution_count": 32,
   "id": "53e097b9",
   "metadata": {},
   "outputs": [
    {
     "data": {
      "text/plain": [
       "Index(['id', 'imdb_id', 'popularity', 'budget', 'revenue', 'original_title',\n",
       "       'cast', 'homepage', 'director', 'tagline', 'keywords', 'overview',\n",
       "       'runtime', 'genres', 'production_companies', 'release_date',\n",
       "       'vote_count', 'vote_average', 'release_year', 'budget_adj',\n",
       "       'revenue_adj'],\n",
       "      dtype='object')"
      ]
     },
     "execution_count": 32,
     "metadata": {},
     "output_type": "execute_result"
    }
   ],
   "source": [
    "df.columns"
   ]
  },
  {
   "cell_type": "code",
   "execution_count": 33,
   "id": "67c8be29",
   "metadata": {},
   "outputs": [
    {
     "data": {
      "text/html": [
       "<div>\n",
       "<style scoped>\n",
       "    .dataframe tbody tr th:only-of-type {\n",
       "        vertical-align: middle;\n",
       "    }\n",
       "\n",
       "    .dataframe tbody tr th {\n",
       "        vertical-align: top;\n",
       "    }\n",
       "\n",
       "    .dataframe thead th {\n",
       "        text-align: right;\n",
       "    }\n",
       "</style>\n",
       "<table border=\"1\" class=\"dataframe\">\n",
       "  <thead>\n",
       "    <tr style=\"text-align: right;\">\n",
       "      <th></th>\n",
       "      <th>popularity</th>\n",
       "      <th>director</th>\n",
       "      <th>vote_count</th>\n",
       "      <th>vote_average</th>\n",
       "      <th>budget_adj</th>\n",
       "      <th>revenue_adj</th>\n",
       "    </tr>\n",
       "  </thead>\n",
       "  <tbody>\n",
       "    <tr>\n",
       "      <th>0</th>\n",
       "      <td>32.985763</td>\n",
       "      <td>Colin Trevorrow</td>\n",
       "      <td>5562</td>\n",
       "      <td>6.5</td>\n",
       "      <td>1.379999e+08</td>\n",
       "      <td>1.392446e+09</td>\n",
       "    </tr>\n",
       "    <tr>\n",
       "      <th>1</th>\n",
       "      <td>28.419936</td>\n",
       "      <td>George Miller</td>\n",
       "      <td>6185</td>\n",
       "      <td>7.1</td>\n",
       "      <td>1.379999e+08</td>\n",
       "      <td>3.481613e+08</td>\n",
       "    </tr>\n",
       "    <tr>\n",
       "      <th>2</th>\n",
       "      <td>13.112507</td>\n",
       "      <td>Robert Schwentke</td>\n",
       "      <td>2480</td>\n",
       "      <td>6.3</td>\n",
       "      <td>1.012000e+08</td>\n",
       "      <td>2.716190e+08</td>\n",
       "    </tr>\n",
       "    <tr>\n",
       "      <th>3</th>\n",
       "      <td>11.173104</td>\n",
       "      <td>J.J. Abrams</td>\n",
       "      <td>5292</td>\n",
       "      <td>7.5</td>\n",
       "      <td>1.839999e+08</td>\n",
       "      <td>1.902723e+09</td>\n",
       "    </tr>\n",
       "    <tr>\n",
       "      <th>4</th>\n",
       "      <td>9.335014</td>\n",
       "      <td>James Wan</td>\n",
       "      <td>2947</td>\n",
       "      <td>7.3</td>\n",
       "      <td>1.747999e+08</td>\n",
       "      <td>1.385749e+09</td>\n",
       "    </tr>\n",
       "  </tbody>\n",
       "</table>\n",
       "</div>"
      ],
      "text/plain": [
       "   popularity          director  vote_count  vote_average    budget_adj  \\\n",
       "0   32.985763   Colin Trevorrow        5562           6.5  1.379999e+08   \n",
       "1   28.419936     George Miller        6185           7.1  1.379999e+08   \n",
       "2   13.112507  Robert Schwentke        2480           6.3  1.012000e+08   \n",
       "3   11.173104       J.J. Abrams        5292           7.5  1.839999e+08   \n",
       "4    9.335014         James Wan        2947           7.3  1.747999e+08   \n",
       "\n",
       "    revenue_adj  \n",
       "0  1.392446e+09  \n",
       "1  3.481613e+08  \n",
       "2  2.716190e+08  \n",
       "3  1.902723e+09  \n",
       "4  1.385749e+09  "
      ]
     },
     "execution_count": 33,
     "metadata": {},
     "output_type": "execute_result"
    }
   ],
   "source": [
    "cols = ['popularity','director','vote_count', 'vote_average','budget_adj',\n",
    "       'revenue_adj']\n",
    "\n",
    "dirs_df = df[cols]\n",
    "dirs_df.head()"
   ]
  },
  {
   "cell_type": "markdown",
   "id": "4ef538f6",
   "metadata": {},
   "source": [
    "**Checking for nulls**"
   ]
  },
  {
   "cell_type": "code",
   "execution_count": 34,
   "id": "e738ddc4",
   "metadata": {},
   "outputs": [
    {
     "data": {
      "text/plain": [
       "popularity       0\n",
       "director        44\n",
       "vote_count       0\n",
       "vote_average     0\n",
       "budget_adj       0\n",
       "revenue_adj      0\n",
       "dtype: int64"
      ]
     },
     "execution_count": 34,
     "metadata": {},
     "output_type": "execute_result"
    }
   ],
   "source": [
    "dirs_df.isna().sum()"
   ]
  },
  {
   "cell_type": "markdown",
   "id": "baf4114c",
   "metadata": {},
   "source": [
    "> droping the nulls because we are working with the directors "
   ]
  },
  {
   "cell_type": "code",
   "execution_count": 35,
   "id": "c1b84bc1",
   "metadata": {},
   "outputs": [],
   "source": [
    "dirs_df.dropna(inplace=True)"
   ]
  },
  {
   "cell_type": "markdown",
   "id": "a0d2c193",
   "metadata": {},
   "source": [
    "**we can see that most of the movies aren't even that popular**"
   ]
  },
  {
   "cell_type": "code",
   "execution_count": 36,
   "id": "f81775c0",
   "metadata": {},
   "outputs": [
    {
     "data": {
      "text/html": [
       "<div>\n",
       "<style scoped>\n",
       "    .dataframe tbody tr th:only-of-type {\n",
       "        vertical-align: middle;\n",
       "    }\n",
       "\n",
       "    .dataframe tbody tr th {\n",
       "        vertical-align: top;\n",
       "    }\n",
       "\n",
       "    .dataframe thead th {\n",
       "        text-align: right;\n",
       "    }\n",
       "</style>\n",
       "<table border=\"1\" class=\"dataframe\">\n",
       "  <thead>\n",
       "    <tr style=\"text-align: right;\">\n",
       "      <th></th>\n",
       "      <th>popularity</th>\n",
       "      <th>vote_count</th>\n",
       "      <th>vote_average</th>\n",
       "      <th>budget_adj</th>\n",
       "      <th>revenue_adj</th>\n",
       "    </tr>\n",
       "  </thead>\n",
       "  <tbody>\n",
       "    <tr>\n",
       "      <th>count</th>\n",
       "      <td>10822.000000</td>\n",
       "      <td>10822.000000</td>\n",
       "      <td>10822.000000</td>\n",
       "      <td>1.082200e+04</td>\n",
       "      <td>1.082200e+04</td>\n",
       "    </tr>\n",
       "    <tr>\n",
       "      <th>mean</th>\n",
       "      <td>0.648525</td>\n",
       "      <td>218.201811</td>\n",
       "      <td>5.971419</td>\n",
       "      <td>1.762126e+07</td>\n",
       "      <td>5.157217e+07</td>\n",
       "    </tr>\n",
       "    <tr>\n",
       "      <th>std</th>\n",
       "      <td>1.001657</td>\n",
       "      <td>576.646675</td>\n",
       "      <td>0.933675</td>\n",
       "      <td>3.435805e+07</td>\n",
       "      <td>1.448894e+08</td>\n",
       "    </tr>\n",
       "    <tr>\n",
       "      <th>min</th>\n",
       "      <td>0.000188</td>\n",
       "      <td>10.000000</td>\n",
       "      <td>1.500000</td>\n",
       "      <td>0.000000e+00</td>\n",
       "      <td>0.000000e+00</td>\n",
       "    </tr>\n",
       "    <tr>\n",
       "      <th>25%</th>\n",
       "      <td>0.209038</td>\n",
       "      <td>17.000000</td>\n",
       "      <td>5.400000</td>\n",
       "      <td>0.000000e+00</td>\n",
       "      <td>0.000000e+00</td>\n",
       "    </tr>\n",
       "    <tr>\n",
       "      <th>50%</th>\n",
       "      <td>0.385161</td>\n",
       "      <td>38.000000</td>\n",
       "      <td>6.000000</td>\n",
       "      <td>0.000000e+00</td>\n",
       "      <td>0.000000e+00</td>\n",
       "    </tr>\n",
       "    <tr>\n",
       "      <th>75%</th>\n",
       "      <td>0.716278</td>\n",
       "      <td>146.000000</td>\n",
       "      <td>6.600000</td>\n",
       "      <td>2.099042e+07</td>\n",
       "      <td>3.397891e+07</td>\n",
       "    </tr>\n",
       "    <tr>\n",
       "      <th>max</th>\n",
       "      <td>32.985763</td>\n",
       "      <td>9767.000000</td>\n",
       "      <td>9.200000</td>\n",
       "      <td>4.250000e+08</td>\n",
       "      <td>2.827124e+09</td>\n",
       "    </tr>\n",
       "  </tbody>\n",
       "</table>\n",
       "</div>"
      ],
      "text/plain": [
       "         popularity    vote_count  vote_average    budget_adj   revenue_adj\n",
       "count  10822.000000  10822.000000  10822.000000  1.082200e+04  1.082200e+04\n",
       "mean       0.648525    218.201811      5.971419  1.762126e+07  5.157217e+07\n",
       "std        1.001657    576.646675      0.933675  3.435805e+07  1.448894e+08\n",
       "min        0.000188     10.000000      1.500000  0.000000e+00  0.000000e+00\n",
       "25%        0.209038     17.000000      5.400000  0.000000e+00  0.000000e+00\n",
       "50%        0.385161     38.000000      6.000000  0.000000e+00  0.000000e+00\n",
       "75%        0.716278    146.000000      6.600000  2.099042e+07  3.397891e+07\n",
       "max       32.985763   9767.000000      9.200000  4.250000e+08  2.827124e+09"
      ]
     },
     "execution_count": 36,
     "metadata": {},
     "output_type": "execute_result"
    }
   ],
   "source": [
    "dirs_df.describe()"
   ]
  },
  {
   "cell_type": "markdown",
   "id": "df43a147",
   "metadata": {},
   "source": [
    "**transfering `vote_count` and `popularity` columns into segments so they are esier to work with**"
   ]
  },
  {
   "cell_type": "code",
   "execution_count": 37,
   "id": "6c7a405a",
   "metadata": {},
   "outputs": [],
   "source": [
    "dirs_df['vote_count_segment'] = pd.cut(dirs_df.vote_count,100,labels=False)"
   ]
  },
  {
   "cell_type": "code",
   "execution_count": 38,
   "id": "b30b5120",
   "metadata": {},
   "outputs": [],
   "source": [
    "dirs_df['popularity_segment'] = pd.cut(dirs_df.popularity,100,labels=False)"
   ]
  },
  {
   "cell_type": "code",
   "execution_count": 39,
   "id": "39964114",
   "metadata": {},
   "outputs": [
    {
     "data": {
      "text/html": [
       "<div>\n",
       "<style scoped>\n",
       "    .dataframe tbody tr th:only-of-type {\n",
       "        vertical-align: middle;\n",
       "    }\n",
       "\n",
       "    .dataframe tbody tr th {\n",
       "        vertical-align: top;\n",
       "    }\n",
       "\n",
       "    .dataframe thead th {\n",
       "        text-align: right;\n",
       "    }\n",
       "</style>\n",
       "<table border=\"1\" class=\"dataframe\">\n",
       "  <thead>\n",
       "    <tr style=\"text-align: right;\">\n",
       "      <th></th>\n",
       "      <th>popularity</th>\n",
       "      <th>director</th>\n",
       "      <th>vote_count</th>\n",
       "      <th>vote_average</th>\n",
       "      <th>budget_adj</th>\n",
       "      <th>revenue_adj</th>\n",
       "      <th>vote_count_segment</th>\n",
       "      <th>popularity_segment</th>\n",
       "    </tr>\n",
       "  </thead>\n",
       "  <tbody>\n",
       "    <tr>\n",
       "      <th>0</th>\n",
       "      <td>32.985763</td>\n",
       "      <td>Colin Trevorrow</td>\n",
       "      <td>5562</td>\n",
       "      <td>6.5</td>\n",
       "      <td>1.379999e+08</td>\n",
       "      <td>1.392446e+09</td>\n",
       "      <td>56</td>\n",
       "      <td>99</td>\n",
       "    </tr>\n",
       "    <tr>\n",
       "      <th>1</th>\n",
       "      <td>28.419936</td>\n",
       "      <td>George Miller</td>\n",
       "      <td>6185</td>\n",
       "      <td>7.1</td>\n",
       "      <td>1.379999e+08</td>\n",
       "      <td>3.481613e+08</td>\n",
       "      <td>63</td>\n",
       "      <td>86</td>\n",
       "    </tr>\n",
       "    <tr>\n",
       "      <th>2</th>\n",
       "      <td>13.112507</td>\n",
       "      <td>Robert Schwentke</td>\n",
       "      <td>2480</td>\n",
       "      <td>6.3</td>\n",
       "      <td>1.012000e+08</td>\n",
       "      <td>2.716190e+08</td>\n",
       "      <td>25</td>\n",
       "      <td>39</td>\n",
       "    </tr>\n",
       "    <tr>\n",
       "      <th>3</th>\n",
       "      <td>11.173104</td>\n",
       "      <td>J.J. Abrams</td>\n",
       "      <td>5292</td>\n",
       "      <td>7.5</td>\n",
       "      <td>1.839999e+08</td>\n",
       "      <td>1.902723e+09</td>\n",
       "      <td>54</td>\n",
       "      <td>33</td>\n",
       "    </tr>\n",
       "    <tr>\n",
       "      <th>4</th>\n",
       "      <td>9.335014</td>\n",
       "      <td>James Wan</td>\n",
       "      <td>2947</td>\n",
       "      <td>7.3</td>\n",
       "      <td>1.747999e+08</td>\n",
       "      <td>1.385749e+09</td>\n",
       "      <td>30</td>\n",
       "      <td>28</td>\n",
       "    </tr>\n",
       "  </tbody>\n",
       "</table>\n",
       "</div>"
      ],
      "text/plain": [
       "   popularity          director  vote_count  vote_average    budget_adj  \\\n",
       "0   32.985763   Colin Trevorrow        5562           6.5  1.379999e+08   \n",
       "1   28.419936     George Miller        6185           7.1  1.379999e+08   \n",
       "2   13.112507  Robert Schwentke        2480           6.3  1.012000e+08   \n",
       "3   11.173104       J.J. Abrams        5292           7.5  1.839999e+08   \n",
       "4    9.335014         James Wan        2947           7.3  1.747999e+08   \n",
       "\n",
       "    revenue_adj  vote_count_segment  popularity_segment  \n",
       "0  1.392446e+09                  56                  99  \n",
       "1  3.481613e+08                  63                  86  \n",
       "2  2.716190e+08                  25                  39  \n",
       "3  1.902723e+09                  54                  33  \n",
       "4  1.385749e+09                  30                  28  "
      ]
     },
     "execution_count": 39,
     "metadata": {},
     "output_type": "execute_result"
    }
   ],
   "source": [
    "dirs_df.head()"
   ]
  },
  {
   "cell_type": "markdown",
   "id": "bd6ef4a9",
   "metadata": {},
   "source": [
    "**Creating `profit_adj` column that will be more usefull**"
   ]
  },
  {
   "cell_type": "code",
   "execution_count": 40,
   "id": "d8dada56",
   "metadata": {},
   "outputs": [
    {
     "data": {
      "text/html": [
       "<div>\n",
       "<style scoped>\n",
       "    .dataframe tbody tr th:only-of-type {\n",
       "        vertical-align: middle;\n",
       "    }\n",
       "\n",
       "    .dataframe tbody tr th {\n",
       "        vertical-align: top;\n",
       "    }\n",
       "\n",
       "    .dataframe thead th {\n",
       "        text-align: right;\n",
       "    }\n",
       "</style>\n",
       "<table border=\"1\" class=\"dataframe\">\n",
       "  <thead>\n",
       "    <tr style=\"text-align: right;\">\n",
       "      <th></th>\n",
       "      <th>popularity</th>\n",
       "      <th>director</th>\n",
       "      <th>vote_count</th>\n",
       "      <th>vote_average</th>\n",
       "      <th>budget_adj</th>\n",
       "      <th>revenue_adj</th>\n",
       "      <th>vote_count_segment</th>\n",
       "      <th>popularity_segment</th>\n",
       "      <th>profit_adj</th>\n",
       "    </tr>\n",
       "  </thead>\n",
       "  <tbody>\n",
       "    <tr>\n",
       "      <th>0</th>\n",
       "      <td>32.985763</td>\n",
       "      <td>Colin Trevorrow</td>\n",
       "      <td>5562</td>\n",
       "      <td>6.5</td>\n",
       "      <td>1.379999e+08</td>\n",
       "      <td>1.392446e+09</td>\n",
       "      <td>56</td>\n",
       "      <td>99</td>\n",
       "      <td>1.254446e+09</td>\n",
       "    </tr>\n",
       "    <tr>\n",
       "      <th>1</th>\n",
       "      <td>28.419936</td>\n",
       "      <td>George Miller</td>\n",
       "      <td>6185</td>\n",
       "      <td>7.1</td>\n",
       "      <td>1.379999e+08</td>\n",
       "      <td>3.481613e+08</td>\n",
       "      <td>63</td>\n",
       "      <td>86</td>\n",
       "      <td>2.101614e+08</td>\n",
       "    </tr>\n",
       "    <tr>\n",
       "      <th>2</th>\n",
       "      <td>13.112507</td>\n",
       "      <td>Robert Schwentke</td>\n",
       "      <td>2480</td>\n",
       "      <td>6.3</td>\n",
       "      <td>1.012000e+08</td>\n",
       "      <td>2.716190e+08</td>\n",
       "      <td>25</td>\n",
       "      <td>39</td>\n",
       "      <td>1.704191e+08</td>\n",
       "    </tr>\n",
       "    <tr>\n",
       "      <th>3</th>\n",
       "      <td>11.173104</td>\n",
       "      <td>J.J. Abrams</td>\n",
       "      <td>5292</td>\n",
       "      <td>7.5</td>\n",
       "      <td>1.839999e+08</td>\n",
       "      <td>1.902723e+09</td>\n",
       "      <td>54</td>\n",
       "      <td>33</td>\n",
       "      <td>1.718723e+09</td>\n",
       "    </tr>\n",
       "    <tr>\n",
       "      <th>4</th>\n",
       "      <td>9.335014</td>\n",
       "      <td>James Wan</td>\n",
       "      <td>2947</td>\n",
       "      <td>7.3</td>\n",
       "      <td>1.747999e+08</td>\n",
       "      <td>1.385749e+09</td>\n",
       "      <td>30</td>\n",
       "      <td>28</td>\n",
       "      <td>1.210949e+09</td>\n",
       "    </tr>\n",
       "  </tbody>\n",
       "</table>\n",
       "</div>"
      ],
      "text/plain": [
       "   popularity          director  vote_count  vote_average    budget_adj  \\\n",
       "0   32.985763   Colin Trevorrow        5562           6.5  1.379999e+08   \n",
       "1   28.419936     George Miller        6185           7.1  1.379999e+08   \n",
       "2   13.112507  Robert Schwentke        2480           6.3  1.012000e+08   \n",
       "3   11.173104       J.J. Abrams        5292           7.5  1.839999e+08   \n",
       "4    9.335014         James Wan        2947           7.3  1.747999e+08   \n",
       "\n",
       "    revenue_adj  vote_count_segment  popularity_segment    profit_adj  \n",
       "0  1.392446e+09                  56                  99  1.254446e+09  \n",
       "1  3.481613e+08                  63                  86  2.101614e+08  \n",
       "2  2.716190e+08                  25                  39  1.704191e+08  \n",
       "3  1.902723e+09                  54                  33  1.718723e+09  \n",
       "4  1.385749e+09                  30                  28  1.210949e+09  "
      ]
     },
     "execution_count": 40,
     "metadata": {},
     "output_type": "execute_result"
    }
   ],
   "source": [
    "dirs_df['profit_adj'] = dirs_df['revenue_adj'] - dirs_df['budget_adj']\n",
    "dirs_df.head()"
   ]
  },
  {
   "cell_type": "markdown",
   "id": "7e9aa5be",
   "metadata": {},
   "source": [
    "**dropping the old columns**"
   ]
  },
  {
   "cell_type": "code",
   "execution_count": 41,
   "id": "599e8d86",
   "metadata": {},
   "outputs": [],
   "source": [
    "cols_to_drop = ['popularity', 'vote_count','budget_adj','revenue_adj']\n",
    "dirs_df.drop(columns=cols_to_drop,inplace=True)"
   ]
  },
  {
   "cell_type": "code",
   "execution_count": 42,
   "id": "4ccf10a4",
   "metadata": {},
   "outputs": [
    {
     "data": {
      "text/html": [
       "<div>\n",
       "<style scoped>\n",
       "    .dataframe tbody tr th:only-of-type {\n",
       "        vertical-align: middle;\n",
       "    }\n",
       "\n",
       "    .dataframe tbody tr th {\n",
       "        vertical-align: top;\n",
       "    }\n",
       "\n",
       "    .dataframe thead th {\n",
       "        text-align: right;\n",
       "    }\n",
       "</style>\n",
       "<table border=\"1\" class=\"dataframe\">\n",
       "  <thead>\n",
       "    <tr style=\"text-align: right;\">\n",
       "      <th></th>\n",
       "      <th>director</th>\n",
       "      <th>vote_average</th>\n",
       "      <th>vote_count_segment</th>\n",
       "      <th>popularity_segment</th>\n",
       "      <th>profit_adj</th>\n",
       "    </tr>\n",
       "  </thead>\n",
       "  <tbody>\n",
       "    <tr>\n",
       "      <th>0</th>\n",
       "      <td>Colin Trevorrow</td>\n",
       "      <td>6.5</td>\n",
       "      <td>56</td>\n",
       "      <td>99</td>\n",
       "      <td>1.254446e+09</td>\n",
       "    </tr>\n",
       "    <tr>\n",
       "      <th>1</th>\n",
       "      <td>George Miller</td>\n",
       "      <td>7.1</td>\n",
       "      <td>63</td>\n",
       "      <td>86</td>\n",
       "      <td>2.101614e+08</td>\n",
       "    </tr>\n",
       "    <tr>\n",
       "      <th>2</th>\n",
       "      <td>Robert Schwentke</td>\n",
       "      <td>6.3</td>\n",
       "      <td>25</td>\n",
       "      <td>39</td>\n",
       "      <td>1.704191e+08</td>\n",
       "    </tr>\n",
       "    <tr>\n",
       "      <th>3</th>\n",
       "      <td>J.J. Abrams</td>\n",
       "      <td>7.5</td>\n",
       "      <td>54</td>\n",
       "      <td>33</td>\n",
       "      <td>1.718723e+09</td>\n",
       "    </tr>\n",
       "    <tr>\n",
       "      <th>4</th>\n",
       "      <td>James Wan</td>\n",
       "      <td>7.3</td>\n",
       "      <td>30</td>\n",
       "      <td>28</td>\n",
       "      <td>1.210949e+09</td>\n",
       "    </tr>\n",
       "  </tbody>\n",
       "</table>\n",
       "</div>"
      ],
      "text/plain": [
       "           director  vote_average  vote_count_segment  popularity_segment  \\\n",
       "0   Colin Trevorrow           6.5                  56                  99   \n",
       "1     George Miller           7.1                  63                  86   \n",
       "2  Robert Schwentke           6.3                  25                  39   \n",
       "3       J.J. Abrams           7.5                  54                  33   \n",
       "4         James Wan           7.3                  30                  28   \n",
       "\n",
       "     profit_adj  \n",
       "0  1.254446e+09  \n",
       "1  2.101614e+08  \n",
       "2  1.704191e+08  \n",
       "3  1.718723e+09  \n",
       "4  1.210949e+09  "
      ]
     },
     "execution_count": 42,
     "metadata": {},
     "output_type": "execute_result"
    }
   ],
   "source": [
    "dirs_df.head()"
   ]
  },
  {
   "cell_type": "markdown",
   "id": "3c975015",
   "metadata": {},
   "source": [
    "**creating `weighted_vote_average` column; so that movies with more `popularity` and `vote_count` weights more**"
   ]
  },
  {
   "cell_type": "code",
   "execution_count": 43,
   "id": "bc180b97",
   "metadata": {},
   "outputs": [
    {
     "data": {
      "text/html": [
       "<div>\n",
       "<style scoped>\n",
       "    .dataframe tbody tr th:only-of-type {\n",
       "        vertical-align: middle;\n",
       "    }\n",
       "\n",
       "    .dataframe tbody tr th {\n",
       "        vertical-align: top;\n",
       "    }\n",
       "\n",
       "    .dataframe thead th {\n",
       "        text-align: right;\n",
       "    }\n",
       "</style>\n",
       "<table border=\"1\" class=\"dataframe\">\n",
       "  <thead>\n",
       "    <tr style=\"text-align: right;\">\n",
       "      <th></th>\n",
       "      <th>director</th>\n",
       "      <th>vote_average</th>\n",
       "      <th>vote_count_segment</th>\n",
       "      <th>popularity_segment</th>\n",
       "      <th>profit_adj</th>\n",
       "      <th>weighted_vote_average</th>\n",
       "    </tr>\n",
       "  </thead>\n",
       "  <tbody>\n",
       "    <tr>\n",
       "      <th>0</th>\n",
       "      <td>Colin Trevorrow</td>\n",
       "      <td>6.5</td>\n",
       "      <td>56</td>\n",
       "      <td>99</td>\n",
       "      <td>1.254446e+09</td>\n",
       "      <td>10.075</td>\n",
       "    </tr>\n",
       "    <tr>\n",
       "      <th>1</th>\n",
       "      <td>George Miller</td>\n",
       "      <td>7.1</td>\n",
       "      <td>63</td>\n",
       "      <td>86</td>\n",
       "      <td>2.101614e+08</td>\n",
       "      <td>10.579</td>\n",
       "    </tr>\n",
       "    <tr>\n",
       "      <th>2</th>\n",
       "      <td>Robert Schwentke</td>\n",
       "      <td>6.3</td>\n",
       "      <td>25</td>\n",
       "      <td>39</td>\n",
       "      <td>1.704191e+08</td>\n",
       "      <td>4.032</td>\n",
       "    </tr>\n",
       "    <tr>\n",
       "      <th>3</th>\n",
       "      <td>J.J. Abrams</td>\n",
       "      <td>7.5</td>\n",
       "      <td>54</td>\n",
       "      <td>33</td>\n",
       "      <td>1.718723e+09</td>\n",
       "      <td>6.525</td>\n",
       "    </tr>\n",
       "    <tr>\n",
       "      <th>4</th>\n",
       "      <td>James Wan</td>\n",
       "      <td>7.3</td>\n",
       "      <td>30</td>\n",
       "      <td>28</td>\n",
       "      <td>1.210949e+09</td>\n",
       "      <td>4.234</td>\n",
       "    </tr>\n",
       "  </tbody>\n",
       "</table>\n",
       "</div>"
      ],
      "text/plain": [
       "           director  vote_average  vote_count_segment  popularity_segment  \\\n",
       "0   Colin Trevorrow           6.5                  56                  99   \n",
       "1     George Miller           7.1                  63                  86   \n",
       "2  Robert Schwentke           6.3                  25                  39   \n",
       "3       J.J. Abrams           7.5                  54                  33   \n",
       "4         James Wan           7.3                  30                  28   \n",
       "\n",
       "     profit_adj  weighted_vote_average  \n",
       "0  1.254446e+09                 10.075  \n",
       "1  2.101614e+08                 10.579  \n",
       "2  1.704191e+08                  4.032  \n",
       "3  1.718723e+09                  6.525  \n",
       "4  1.210949e+09                  4.234  "
      ]
     },
     "execution_count": 43,
     "metadata": {},
     "output_type": "execute_result"
    }
   ],
   "source": [
    "dirs_df['weighted_vote_average'] = (dirs_df.vote_average * (dirs_df.vote_count_segment/100)) \\\n",
    "                + (dirs_df.vote_average * (dirs_df.popularity_segment/100))\n",
    "dirs_df.head()"
   ]
  },
  {
   "cell_type": "code",
   "execution_count": 44,
   "id": "6eba7be7",
   "metadata": {},
   "outputs": [
    {
     "data": {
      "text/html": [
       "<div>\n",
       "<style scoped>\n",
       "    .dataframe tbody tr th:only-of-type {\n",
       "        vertical-align: middle;\n",
       "    }\n",
       "\n",
       "    .dataframe tbody tr th {\n",
       "        vertical-align: top;\n",
       "    }\n",
       "\n",
       "    .dataframe thead th {\n",
       "        text-align: right;\n",
       "    }\n",
       "</style>\n",
       "<table border=\"1\" class=\"dataframe\">\n",
       "  <thead>\n",
       "    <tr style=\"text-align: right;\">\n",
       "      <th></th>\n",
       "      <th>vote_average</th>\n",
       "      <th>vote_count_segment</th>\n",
       "      <th>popularity_segment</th>\n",
       "      <th>profit_adj</th>\n",
       "      <th>weighted_vote_average</th>\n",
       "    </tr>\n",
       "  </thead>\n",
       "  <tbody>\n",
       "    <tr>\n",
       "      <th>count</th>\n",
       "      <td>10822.000000</td>\n",
       "      <td>10822.000000</td>\n",
       "      <td>10822.000000</td>\n",
       "      <td>1.082200e+04</td>\n",
       "      <td>10822.000000</td>\n",
       "    </tr>\n",
       "    <tr>\n",
       "      <th>mean</th>\n",
       "      <td>5.971419</td>\n",
       "      <td>1.835797</td>\n",
       "      <td>1.478008</td>\n",
       "      <td>3.395091e+07</td>\n",
       "      <td>0.217534</td>\n",
       "    </tr>\n",
       "    <tr>\n",
       "      <th>std</th>\n",
       "      <td>0.933675</td>\n",
       "      <td>5.844228</td>\n",
       "      <td>3.033776</td>\n",
       "      <td>1.254507e+08</td>\n",
       "      <td>0.603633</td>\n",
       "    </tr>\n",
       "    <tr>\n",
       "      <th>min</th>\n",
       "      <td>1.500000</td>\n",
       "      <td>0.000000</td>\n",
       "      <td>0.000000</td>\n",
       "      <td>-4.139124e+08</td>\n",
       "      <td>0.000000</td>\n",
       "    </tr>\n",
       "    <tr>\n",
       "      <th>25%</th>\n",
       "      <td>5.400000</td>\n",
       "      <td>0.000000</td>\n",
       "      <td>0.000000</td>\n",
       "      <td>0.000000e+00</td>\n",
       "      <td>0.000000</td>\n",
       "    </tr>\n",
       "    <tr>\n",
       "      <th>50%</th>\n",
       "      <td>6.000000</td>\n",
       "      <td>0.000000</td>\n",
       "      <td>1.000000</td>\n",
       "      <td>0.000000e+00</td>\n",
       "      <td>0.055000</td>\n",
       "    </tr>\n",
       "    <tr>\n",
       "      <th>75%</th>\n",
       "      <td>6.600000</td>\n",
       "      <td>1.000000</td>\n",
       "      <td>2.000000</td>\n",
       "      <td>1.319720e+07</td>\n",
       "      <td>0.156000</td>\n",
       "    </tr>\n",
       "    <tr>\n",
       "      <th>max</th>\n",
       "      <td>9.200000</td>\n",
       "      <td>99.000000</td>\n",
       "      <td>99.000000</td>\n",
       "      <td>2.750137e+09</td>\n",
       "      <td>11.280000</td>\n",
       "    </tr>\n",
       "  </tbody>\n",
       "</table>\n",
       "</div>"
      ],
      "text/plain": [
       "       vote_average  vote_count_segment  popularity_segment    profit_adj  \\\n",
       "count  10822.000000        10822.000000        10822.000000  1.082200e+04   \n",
       "mean       5.971419            1.835797            1.478008  3.395091e+07   \n",
       "std        0.933675            5.844228            3.033776  1.254507e+08   \n",
       "min        1.500000            0.000000            0.000000 -4.139124e+08   \n",
       "25%        5.400000            0.000000            0.000000  0.000000e+00   \n",
       "50%        6.000000            0.000000            1.000000  0.000000e+00   \n",
       "75%        6.600000            1.000000            2.000000  1.319720e+07   \n",
       "max        9.200000           99.000000           99.000000  2.750137e+09   \n",
       "\n",
       "       weighted_vote_average  \n",
       "count           10822.000000  \n",
       "mean                0.217534  \n",
       "std                 0.603633  \n",
       "min                 0.000000  \n",
       "25%                 0.000000  \n",
       "50%                 0.055000  \n",
       "75%                 0.156000  \n",
       "max                11.280000  "
      ]
     },
     "execution_count": 44,
     "metadata": {},
     "output_type": "execute_result"
    }
   ],
   "source": [
    "dirs_df.describe()"
   ]
  },
  {
   "cell_type": "markdown",
   "id": "4bac2119",
   "metadata": {},
   "source": [
    "**Splitting movies with multiple directors into rows with single directors**"
   ]
  },
  {
   "cell_type": "code",
   "execution_count": 45,
   "id": "9a2b5bf3",
   "metadata": {},
   "outputs": [
    {
     "data": {
      "text/plain": [
       "[['Colin Trevorrow'],\n",
       " ['George Miller'],\n",
       " ['Robert Schwentke'],\n",
       " ['J.J. Abrams'],\n",
       " ['James Wan']]"
      ]
     },
     "execution_count": 45,
     "metadata": {},
     "output_type": "execute_result"
    }
   ],
   "source": [
    "directors=dirs_df.director.values\n",
    "final_directors=[]\n",
    "for i in range (len(directors)):\n",
    "    x = directors[i].split(\"|\")\n",
    "    final_directors.append(x)\n",
    "\n",
    "final_directors[:5]"
   ]
  },
  {
   "cell_type": "code",
   "execution_count": 46,
   "id": "f0abae39",
   "metadata": {},
   "outputs": [
    {
     "data": {
      "text/html": [
       "<div>\n",
       "<style scoped>\n",
       "    .dataframe tbody tr th:only-of-type {\n",
       "        vertical-align: middle;\n",
       "    }\n",
       "\n",
       "    .dataframe tbody tr th {\n",
       "        vertical-align: top;\n",
       "    }\n",
       "\n",
       "    .dataframe thead th {\n",
       "        text-align: right;\n",
       "    }\n",
       "</style>\n",
       "<table border=\"1\" class=\"dataframe\">\n",
       "  <thead>\n",
       "    <tr style=\"text-align: right;\">\n",
       "      <th></th>\n",
       "      <th>director</th>\n",
       "      <th>vote_average</th>\n",
       "      <th>vote_count_segment</th>\n",
       "      <th>popularity_segment</th>\n",
       "      <th>profit_adj</th>\n",
       "      <th>weighted_vote_average</th>\n",
       "    </tr>\n",
       "  </thead>\n",
       "  <tbody>\n",
       "    <tr>\n",
       "      <th>0</th>\n",
       "      <td>[Colin Trevorrow]</td>\n",
       "      <td>6.5</td>\n",
       "      <td>56</td>\n",
       "      <td>99</td>\n",
       "      <td>1.254446e+09</td>\n",
       "      <td>10.075</td>\n",
       "    </tr>\n",
       "    <tr>\n",
       "      <th>1</th>\n",
       "      <td>[George Miller]</td>\n",
       "      <td>7.1</td>\n",
       "      <td>63</td>\n",
       "      <td>86</td>\n",
       "      <td>2.101614e+08</td>\n",
       "      <td>10.579</td>\n",
       "    </tr>\n",
       "    <tr>\n",
       "      <th>2</th>\n",
       "      <td>[Robert Schwentke]</td>\n",
       "      <td>6.3</td>\n",
       "      <td>25</td>\n",
       "      <td>39</td>\n",
       "      <td>1.704191e+08</td>\n",
       "      <td>4.032</td>\n",
       "    </tr>\n",
       "    <tr>\n",
       "      <th>3</th>\n",
       "      <td>[J.J. Abrams]</td>\n",
       "      <td>7.5</td>\n",
       "      <td>54</td>\n",
       "      <td>33</td>\n",
       "      <td>1.718723e+09</td>\n",
       "      <td>6.525</td>\n",
       "    </tr>\n",
       "    <tr>\n",
       "      <th>4</th>\n",
       "      <td>[James Wan]</td>\n",
       "      <td>7.3</td>\n",
       "      <td>30</td>\n",
       "      <td>28</td>\n",
       "      <td>1.210949e+09</td>\n",
       "      <td>4.234</td>\n",
       "    </tr>\n",
       "  </tbody>\n",
       "</table>\n",
       "</div>"
      ],
      "text/plain": [
       "             director  vote_average  vote_count_segment  popularity_segment  \\\n",
       "0   [Colin Trevorrow]           6.5                  56                  99   \n",
       "1     [George Miller]           7.1                  63                  86   \n",
       "2  [Robert Schwentke]           6.3                  25                  39   \n",
       "3       [J.J. Abrams]           7.5                  54                  33   \n",
       "4         [James Wan]           7.3                  30                  28   \n",
       "\n",
       "     profit_adj  weighted_vote_average  \n",
       "0  1.254446e+09                 10.075  \n",
       "1  2.101614e+08                 10.579  \n",
       "2  1.704191e+08                  4.032  \n",
       "3  1.718723e+09                  6.525  \n",
       "4  1.210949e+09                  4.234  "
      ]
     },
     "execution_count": 46,
     "metadata": {},
     "output_type": "execute_result"
    }
   ],
   "source": [
    "dirs_df.director = final_directors\n",
    "dirs_df.head()"
   ]
  },
  {
   "cell_type": "code",
   "execution_count": 47,
   "id": "4d17b4dc",
   "metadata": {},
   "outputs": [
    {
     "data": {
      "text/html": [
       "<div>\n",
       "<style scoped>\n",
       "    .dataframe tbody tr th:only-of-type {\n",
       "        vertical-align: middle;\n",
       "    }\n",
       "\n",
       "    .dataframe tbody tr th {\n",
       "        vertical-align: top;\n",
       "    }\n",
       "\n",
       "    .dataframe thead th {\n",
       "        text-align: right;\n",
       "    }\n",
       "</style>\n",
       "<table border=\"1\" class=\"dataframe\">\n",
       "  <thead>\n",
       "    <tr style=\"text-align: right;\">\n",
       "      <th></th>\n",
       "      <th>director</th>\n",
       "      <th>vote_average</th>\n",
       "      <th>vote_count_segment</th>\n",
       "      <th>popularity_segment</th>\n",
       "      <th>profit_adj</th>\n",
       "      <th>weighted_vote_average</th>\n",
       "    </tr>\n",
       "  </thead>\n",
       "  <tbody>\n",
       "    <tr>\n",
       "      <th>0</th>\n",
       "      <td>Colin Trevorrow</td>\n",
       "      <td>6.5</td>\n",
       "      <td>56</td>\n",
       "      <td>99</td>\n",
       "      <td>1.254446e+09</td>\n",
       "      <td>10.075</td>\n",
       "    </tr>\n",
       "    <tr>\n",
       "      <th>1</th>\n",
       "      <td>George Miller</td>\n",
       "      <td>7.1</td>\n",
       "      <td>63</td>\n",
       "      <td>86</td>\n",
       "      <td>2.101614e+08</td>\n",
       "      <td>10.579</td>\n",
       "    </tr>\n",
       "    <tr>\n",
       "      <th>2</th>\n",
       "      <td>Robert Schwentke</td>\n",
       "      <td>6.3</td>\n",
       "      <td>25</td>\n",
       "      <td>39</td>\n",
       "      <td>1.704191e+08</td>\n",
       "      <td>4.032</td>\n",
       "    </tr>\n",
       "    <tr>\n",
       "      <th>3</th>\n",
       "      <td>J.J. Abrams</td>\n",
       "      <td>7.5</td>\n",
       "      <td>54</td>\n",
       "      <td>33</td>\n",
       "      <td>1.718723e+09</td>\n",
       "      <td>6.525</td>\n",
       "    </tr>\n",
       "    <tr>\n",
       "      <th>4</th>\n",
       "      <td>James Wan</td>\n",
       "      <td>7.3</td>\n",
       "      <td>30</td>\n",
       "      <td>28</td>\n",
       "      <td>1.210949e+09</td>\n",
       "      <td>4.234</td>\n",
       "    </tr>\n",
       "  </tbody>\n",
       "</table>\n",
       "</div>"
      ],
      "text/plain": [
       "           director  vote_average  vote_count_segment  popularity_segment  \\\n",
       "0   Colin Trevorrow           6.5                  56                  99   \n",
       "1     George Miller           7.1                  63                  86   \n",
       "2  Robert Schwentke           6.3                  25                  39   \n",
       "3       J.J. Abrams           7.5                  54                  33   \n",
       "4         James Wan           7.3                  30                  28   \n",
       "\n",
       "     profit_adj  weighted_vote_average  \n",
       "0  1.254446e+09                 10.075  \n",
       "1  2.101614e+08                 10.579  \n",
       "2  1.704191e+08                  4.032  \n",
       "3  1.718723e+09                  6.525  \n",
       "4  1.210949e+09                  4.234  "
      ]
     },
     "execution_count": 47,
     "metadata": {},
     "output_type": "execute_result"
    }
   ],
   "source": [
    "exp_dirs_df = dirs_df.explode(column='director')\n",
    "exp_dirs_df.head()"
   ]
  },
  {
   "cell_type": "markdown",
   "id": "e6a53d14",
   "metadata": {},
   "source": [
    "**Group the data by `director` and aggregating by the mean of the other values**\n",
    "\n",
    "**and another group the data by `director` and aggregating by the sum of the other values**"
   ]
  },
  {
   "cell_type": "code",
   "execution_count": 48,
   "id": "367bdb72",
   "metadata": {},
   "outputs": [],
   "source": [
    "dirs_grouped_mean = exp_dirs_df.groupby('director').mean()\n",
    "dirs_grouped_sum = exp_dirs_df.groupby('director').sum()"
   ]
  },
  {
   "cell_type": "markdown",
   "id": "cf96b06c",
   "metadata": {},
   "source": [
    "**Let's see who are the top 10 directors in terms of mean `weighted vote`**"
   ]
  },
  {
   "cell_type": "code",
   "execution_count": 49,
   "id": "2c71537d",
   "metadata": {},
   "outputs": [
    {
     "data": {
      "image/png": "[encoded data removed]",
      "text/plain": [
       "<Figure size 1584x720 with 1 Axes>"
      ]
     },
     "metadata": {
      "needs_background": "light"
     },
     "output_type": "display_data"
    }
   ],
   "source": [
    "tmp = dirs_grouped_mean.sort_values('weighted_vote_average',ascending=False)\n",
    "sns.barplot(tmp.index[:10],tmp.weighted_vote_average[:10])\n",
    "_ = plt.title('top 10 directors in terms of weighted vote')\n",
    "_ = plt.xlabel('director')\n",
    "_ = plt.ylabel('weighted vote')"
   ]
  },
  {
   "cell_type": "markdown",
   "id": "e56ee218",
   "metadata": {},
   "source": [
    "**We can see that *Colin Treverrow*, *Christopher Nolan*, and *Bob Peterson* on average are top 3**"
   ]
  },
  {
   "cell_type": "markdown",
   "id": "7f786e92",
   "metadata": {},
   "source": [
    "**What about `popularity`**"
   ]
  },
  {
   "cell_type": "code",
   "execution_count": 50,
   "id": "5f99b838",
   "metadata": {},
   "outputs": [
    {
     "data": {
      "image/png": "[encoded data removed]",
      "text/plain": [
       "<Figure size 1584x720 with 1 Axes>"
      ]
     },
     "metadata": {
      "needs_background": "light"
     },
     "output_type": "display_data"
    }
   ],
   "source": [
    "tmp = dirs_grouped_mean.sort_values('popularity_segment',ascending=False)\n",
    "sns.barplot(tmp.index[:10],tmp.popularity_segment[:10])\n",
    "_ = plt.title('top 10 directors in terms of popularity')\n",
    "_ = plt.xlabel('director')\n",
    "_ = plt.ylabel('popularity')"
   ]
  },
  {
   "cell_type": "markdown",
   "id": "ccdacc5e",
   "metadata": {},
   "source": [
    "**We can see that *Colin Treverrow* still in the top, *David Leitch* second, and *Chad Stahelski* came third**"
   ]
  },
  {
   "cell_type": "markdown",
   "id": "68a2b947",
   "metadata": {},
   "source": [
    "**But does more popularity and good reviews means more money?**"
   ]
  },
  {
   "cell_type": "code",
   "execution_count": 51,
   "id": "719dd68b",
   "metadata": {},
   "outputs": [
    {
     "data": {
      "image/png": "[encoded data removed]",
      "text/plain": [
       "<Figure size 1584x720 with 1 Axes>"
      ]
     },
     "metadata": {
      "needs_background": "light"
     },
     "output_type": "display_data"
    }
   ],
   "source": [
    "tmp = dirs_grouped_sum.sort_values('profit_adj',ascending=False)\n",
    "sns.barplot(tmp.index[:10],tmp.profit_adj[:10])\n",
    "_ = plt.title('top 10 directors in terms of profit')\n",
    "_ = plt.xlabel('director')\n",
    "_ = plt.ylabel('profit')"
   ]
  },
  {
   "cell_type": "markdown",
   "id": "562e30c1",
   "metadata": {},
   "source": [
    "**It doesn't look like it but maybe a scatter plot could show the relation better**"
   ]
  },
  {
   "cell_type": "code",
   "execution_count": 52,
   "id": "4ab6f47f",
   "metadata": {},
   "outputs": [
    {
     "data": {
      "text/plain": [
       "Text(0, 0.5, 'popularity')"
      ]
     },
     "execution_count": 52,
     "metadata": {},
     "output_type": "execute_result"
    },
    {
     "data": {
      "image/png": "[encoded data removed]",
      "text/plain": [
       "<Figure size 1080x864 with 2 Axes>"
      ]
     },
     "metadata": {
      "needs_background": "light"
     },
     "output_type": "display_data"
    }
   ],
   "source": [
    "fig,ax = plt.subplots(2)\n",
    "fig.set_size_inches(15, 12)\n",
    "sns.regplot(x=dirs_grouped_sum.profit_adj,y=dirs_grouped_sum.weighted_vote_average,ax=ax[0])\n",
    "ax[0].set_xlabel('profit')\n",
    "ax[0].set_ylabel('weighted votes')\n",
    "sns.regplot(x=dirs_grouped_sum.profit_adj,y=dirs_grouped_sum.popularity_segment,ax=ax[1])\n",
    "ax[1].set_xlabel('profit')\n",
    "ax[1].set_ylabel('popularity')"
   ]
  },
  {
   "cell_type": "markdown",
   "id": "ce735f9e",
   "metadata": {},
   "source": [
    "actualy there is a linear relation"
   ]
  },
  {
   "cell_type": "markdown",
   "id": "3c77dcc1",
   "metadata": {},
   "source": [
    "**who are the top 10 directors by number of movies produced?**"
   ]
  },
  {
   "cell_type": "code",
   "execution_count": 53,
   "id": "365968b9",
   "metadata": {},
   "outputs": [
    {
     "data": {
      "image/png": "[encoded data removed]",
      "text/plain": [
       "<Figure size 1584x720 with 1 Axes>"
      ]
     },
     "metadata": {
      "needs_background": "light"
     },
     "output_type": "display_data"
    }
   ],
   "source": [
    "sns.barplot(exp_dirs_df.director.value_counts().index[:10],exp_dirs_df.director.value_counts()[:10])\n",
    "_ = plt.title('top 10 directors in terms of movies produced')\n",
    "_ = plt.xlabel('director')\n",
    "_ = plt.ylabel('number of movies')"
   ]
  },
  {
   "cell_type": "markdown",
   "id": "af6bb342",
   "metadata": {},
   "source": [
    "# Conclusions"
   ]
  },
  {
   "cell_type": "markdown",
   "id": "f8a4a840",
   "metadata": {},
   "source": [
    "## Conclusion 1:\n",
    "\n",
    "- **Drama is more popular but Adventure makes more profit**"
   ]
  },
  {
   "cell_type": "markdown",
   "id": "983de042",
   "metadata": {},
   "source": [
    "## Conclusion 2:\n",
    "\n",
    "- **Universal Pictures produced more movies, but Warner Bros gained more profit**\n",
    "- **There is a relation between producing more movies and making more profit**"
   ]
  },
  {
   "cell_type": "markdown",
   "id": "9f1c4ab6",
   "metadata": {},
   "source": [
    "## Conclusion 3\n",
    "\n",
    "- **Colin Treverrow is the top director in terms of popularity and reviews**\n",
    "- **Steven Spielberg  movies make most profit**\n",
    "- **In General there is a relation between (profit and popularity), and (profit and weighed votes)**\n",
    "- **Woody Allen directed most movies**"
   ]
  },
  {
   "cell_type": "code",
   "execution_count": null,
   "id": "1da2ec2e",
   "metadata": {},
   "outputs": [],
   "source": []
  }
 ],
 "metadata": {
  "kernelspec": {
   "display_name": "Python 3",
   "language": "python",
   "name": "python3"
  },
  "language_info": {
   "codemirror_mode": {
    "name": "ipython",
    "version": 3
   },
   "file_extension": ".py",
   "mimetype": "text/x-python",
   "name": "python",
   "nbconvert_exporter": "python",
   "pygments_lexer": "ipython3",
   "version": "3.8.10"
  }
 },
 "nbformat": 4,
 "nbformat_minor": 5
}
